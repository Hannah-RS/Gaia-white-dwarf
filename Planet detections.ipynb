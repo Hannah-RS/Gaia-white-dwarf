{
 "cells": [
  {
   "cell_type": "markdown",
   "id": "ee84fa65",
   "metadata": {},
   "source": [
    "# Planet detections\n",
    "\n",
    "This notebook uses the distribution of detectable planets around white dwarfs $\\frac{d^2N_{det}}{dloga\\,dlogM}$ with $1M_\\odot$ progenitors to predict the number of planets Gaia will detect around white dwarfs.\n",
    "\n",
    "The calculation is as follows:\n",
    "$\\frac{d^2N_{det}}{dloga\\,dlogM}=\\left(\\frac{d^2N_{WD}}{dloga\\,dlogM}\\right)_{jk}P_{jk}$ \n",
    "where $P_{jk}$ is the detection probability of a planet in the $j^{th}$ semi-major axis bin and $k^{th}$ mass bin. This is done in main.py in the detections folder.\n",
    "\n",
    "$N_{det}=\\Sigma_{jk}\\left(\\frac{d^2N_{det}}{dloga\\,dlogM}\\right)_{jk}(dloga)_j(dlogM)_k$\n",
    "\n",
    "The errors are given by \n",
    "\n",
    "$\\sigma(\\frac{d^2N_{det}}{dloga\\,dlogM})_{jk}=P_{jk}\\sigma(\\frac{d^2N_{WD}}{dloga\\,dlogM})_{jk}$\n",
    "\n",
    "$\\sigma(N_{det})=\\sqrt{\\Sigma_{jk}\\left(\\frac{d^2N_{det}}{dloga\\,dlogM}\\right)_{jk}^2}$ as the error on the detection probabilities is an order of magnitude smaller than the error on the number of planets per log M and log a so can be neglected.\n",
    "\n",
    "**Ongoing issues**\n",
    "\n",
    "None to report"
   ]
  },
  {
   "cell_type": "markdown",
   "id": "87997ecb",
   "metadata": {},
   "source": [
    "## Table of Contents:  <a class=\"anchor\" id=\"top\"></a>\n",
    "* [Set up](#set-up)\n",
    "    + [Import modules](#import)\n",
    "    + [Import data](#data)\n",
    "* [Transform data](#transform)\n",
    "    + [Useful functions](#function)\n",
    "    + [Convert for plotting](#convert)\n",
    "* [Plot](#plot)\n",
    "* [Number of detected planets](#number)\n",
    "    * [Summary stats](#summary)\n",
    "    * [Extend period limit](#extend_limit)\n",
    "    * [White dwarfs brighter than Gmag 15](#mag15)\n",
    "* [Effect of mass cut off](#mass_cut)"
   ]
  },
  {
   "cell_type": "markdown",
   "id": "864964b9",
   "metadata": {},
   "source": [
    "## Set-up <a class=\"anchor\" id=\"set-up\"></a>\n",
    "<p align=\"right\">(<a href=\"#top\">back to top</a>)</p>\n",
    "\n",
    "### Import modules  <a class=\"anchor\" id=\"import\"></a>"
   ]
  },
  {
   "cell_type": "code",
   "execution_count": 1,
   "id": "09941381",
   "metadata": {},
   "outputs": [],
   "source": [
    "import pandas as pd\n",
    "import numpy as np\n",
    "import matplotlib.pyplot as plt\n",
    "import matplotlib.colors as mcolors\n",
    "import seaborn as sns"
   ]
  },
  {
   "cell_type": "markdown",
   "id": "8f350762",
   "metadata": {},
   "source": [
    "### Import data  <a class=\"anchor\" id=\"data\"></a>"
   ]
  },
  {
   "cell_type": "markdown",
   "id": "96407c6f",
   "metadata": {},
   "source": [
    "Load detection map. Have upper and lower error maps due to non-linear relation between S/N and detection probability."
   ]
  },
  {
   "cell_type": "code",
   "execution_count": 2,
   "id": "183894e6",
   "metadata": {},
   "outputs": [],
   "source": [
    "name='final' #use to change if you are importing data for whole catalogue or just Gmag 15 \n",
    "plan_det=np.loadtxt('Detection_probability/Results/Distributions/detected_planets_{}.csv'.format(name),delimiter=',')\n",
    "plan_error_up=np.loadtxt('Detection_probability/Results/Distributions/upper_error_planets_{}.csv'.format(name),delimiter=',')\n",
    "plan_error_low=np.loadtxt('Detection_probability/Results/Distributions/lower_error_planets_{}.csv'.format(name),delimiter=',')"
   ]
  },
  {
   "cell_type": "markdown",
   "id": "4c1467c5",
   "metadata": {},
   "source": [
    "Load histogram edges"
   ]
  },
  {
   "cell_type": "code",
   "execution_count": 3,
   "id": "58b19b33",
   "metadata": {},
   "outputs": [],
   "source": [
    "a_edges_wd=np.loadtxt('Distribution/wd_a_edges.csv',delimiter=',')\n",
    "m_edges_wd=np.loadtxt('Distribution/wd_m_edges.csv',delimiter=',')"
   ]
  },
  {
   "cell_type": "markdown",
   "id": "e3bee6b6",
   "metadata": {},
   "source": [
    "## Transform data <a class=\"anchor\" id=\"transform\"></a>\n",
    "<p align=\"right\">(<a href=\"#top\">back to top</a>)</p>\n",
    "\n",
    "### Useful functions <a class=\"anchor\" id=\"function\"></a>"
   ]
  },
  {
   "cell_type": "code",
   "execution_count": 4,
   "id": "64d2c633",
   "metadata": {},
   "outputs": [],
   "source": [
    "def dist_convert(hist_val,edge1,edge2):\n",
    "    \"\"\"\n",
    "    Function  to return values in 2d histogram weighted by dloga and dlogm\n",
    "    :params hist_val: array, values from np.histogram\n",
    "    :params edge1: array, bin edges in 1st dimension, unevenly distributed in log space, unlogged values\n",
    "    :params edge2: array, bin edges in 2nd dimension, unevenly distributed in log space, logged values\n",
    "    \n",
    "    :returns hist_val_scaled: array, values in original histogram weighted by dloga and dlogm where both logs are base 10\n",
    "    \"\"\"\n",
    "    dloga=np.log10(np.exp(1))*2*np.ediff1d(edge1)/(edge1[:-1]+edge1[1:]) #dloga=log10(e) da/a - find a from averaging sucessive values\n",
    "    dlogm=np.ediff1d(edge2) #dlogm need to account for non uniform spacing\n",
    "    hist_val_scaled=np.zeros([len(edge1)-1,len(edge2)-1])\n",
    "    for i in range(len(edge2)-1):\n",
    "        hist_val_scaled[:,i]=hist_val[:,i]*dloga*abs(dlogm[i]) #have to multiply by bin width as doing a discrete integral, take absolute value as dlogm can be negative\n",
    "    \n",
    "    return hist_val_scaled"
   ]
  },
  {
   "cell_type": "code",
   "execution_count": 5,
   "id": "75b086aa",
   "metadata": {},
   "outputs": [],
   "source": [
    "def plot_convert(hist_val,edge1,edge2):\n",
    "    \"\"\"\n",
    "    Function  to return values in 2d histogram converted to d^2N/da dlogM\n",
    "    :params hist_val: array, values from np.histogram\n",
    "    :params edge1: array, a bin edges in 1st dimension, unevenly distributed in log space, unlogged values\n",
    "    :params edge2: array, bin edges in 2nd dimension, evenly distributed in log space, log values\n",
    "    \n",
    "    :returns hist_val_scaled: array, values in original histogram weighted by a/log10(e)\n",
    "    \"\"\"\n",
    "    amid=(edge1[:-1]+edge1[1:])/2 #find a from averaging sucessive values\n",
    "    hist_val_scaled=np.zeros([len(edge1)-1,len(edge2)-1])\n",
    "    for i in range(len(edge2)-1):\n",
    "        hist_val_scaled[:,i]=hist_val[:,i]*amid/np.log10(np.exp(1))\n",
    "    \n",
    "    return hist_val_scaled"
   ]
  },
  {
   "cell_type": "markdown",
   "id": "a1d3ba2b",
   "metadata": {},
   "source": [
    "### Convert for plotting <a class=\"anchor\" id=\"convert\"></a>"
   ]
  },
  {
   "cell_type": "code",
   "execution_count": 6,
   "id": "e297b877",
   "metadata": {},
   "outputs": [],
   "source": [
    "plan_plot=plot_convert(plan_det,a_edges_wd,m_edges_wd)"
   ]
  },
  {
   "cell_type": "code",
   "execution_count": 7,
   "id": "4b1e7dac",
   "metadata": {},
   "outputs": [
    {
     "data": {
      "text/plain": [
       "3.9148676411688634"
      ]
     },
     "execution_count": 7,
     "metadata": {},
     "output_type": "execute_result"
    }
   ],
   "source": [
    "a_edges_wd[28]"
   ]
  },
  {
   "cell_type": "markdown",
   "id": "3cfb4820",
   "metadata": {},
   "source": [
    "## Plot of detected planets <a class=\"anchor\" id=\"plot\"></a>\n",
    "<p align=\"right\">(<a href=\"#top\">back to top</a>)</p>"
   ]
  },
  {
   "cell_type": "code",
   "execution_count": 8,
   "id": "bfa6d742",
   "metadata": {},
   "outputs": [
    {
     "data": {
      "image/png": "[encoded data removed]",
      "text/plain": [
       "<Figure size 1152x576 with 2 Axes>"
      ]
     },
     "metadata": {
      "needs_background": "light"
     },
     "output_type": "display_data"
    }
   ],
   "source": [
    "with sns.plotting_context('paper',font_scale=1.75):\n",
    "    plt.figure(figsize=[16,8])\n",
    "    plt.pcolormesh(a_edges_wd[28:],10**m_edges_wd,np.transpose(plan_plot[28:,:]),norm=mcolors.LogNorm(),shading='flat',alpha=0.5)\n",
    "    plt.pcolormesh(a_edges_wd[:29],10**m_edges_wd,np.transpose(plan_plot[:28,:]),norm=mcolors.LogNorm(),shading='flat',alpha=1)\n",
    "    plt.yscale('log')\n",
    "    plt.xlabel('a/au')\n",
    "    plt.ylabel('M/M$_J$')\n",
    "    plt.annotate('Period longer than mission length',(5.552,10**(-1.7)),(4.2,1e-2),arrowprops=dict(arrowstyle='-[, widthB=7.3, lengthB=0.4'))\n",
    "    #plt.title('Predicted number of detected planets per log semi-major axis \\n and log M over entire eDR3 white dwarf catalogue')\n",
    "    plt.colorbar(label=r'$\\frac{d^2N_{det}}{da\\;dlogM}$')\n",
    "    #plt.savefig('../Plots/distribution_of_detected_planets_{}.pdf'.format(name),bbox_inches='tight')"
   ]
  },
  {
   "cell_type": "markdown",
   "id": "2e2860f9",
   "metadata": {},
   "source": [
    "## Number of detected planets <a class=\"anchor\" id=\"number\"></a>\n",
    "<p align=\"right\">(<a href=\"#top\">back to top</a>)</p>"
   ]
  },
  {
   "cell_type": "markdown",
   "id": "63dcd6cd",
   "metadata": {},
   "source": [
    "First find total number"
   ]
  },
  {
   "cell_type": "code",
   "execution_count": 9,
   "id": "4f324cbd",
   "metadata": {},
   "outputs": [],
   "source": [
    "plan_all = dist_convert(plan_det,a_edges_wd,m_edges_wd)\n",
    "plan_num=np.sum(plan_all)\n",
    "error_all_up=dist_convert(plan_error_up,a_edges_wd,m_edges_wd)\n",
    "error_num_up=np.sqrt(np.sum(error_all_up**2))\n",
    "error_all_low=dist_convert(plan_error_low,a_edges_wd,m_edges_wd)\n",
    "error_num_low=np.sqrt(np.sum(error_all_low**2))\n",
    "error_av=(error_all_up+error_all_low)/2"
   ]
  },
  {
   "cell_type": "code",
   "execution_count": 10,
   "id": "04eeb4c5",
   "metadata": {},
   "outputs": [
    {
     "name": "stdout",
     "output_type": "stream",
     "text": [
      "Gaia will find 175.3 + 71.9 - 76.8 planets around white dwarfs\n"
     ]
    }
   ],
   "source": [
    "print('Gaia will find {:.1f} + {:.1f} - {:.1f} planets around white dwarfs'.format(plan_num,error_num_up,error_num_low))"
   ]
  },
  {
   "cell_type": "markdown",
   "id": "feba1086",
   "metadata": {},
   "source": [
    "Find number within 3.91 au"
   ]
  },
  {
   "cell_type": "code",
   "execution_count": 11,
   "id": "1de7817b",
   "metadata": {},
   "outputs": [],
   "source": [
    "plan_small=dist_convert(plan_det,a_edges_wd,m_edges_wd)[:28,:]\n",
    "tot_small=np.sum(plan_small)\n",
    "error_small_up=dist_convert(plan_error_up,a_edges_wd,m_edges_wd)[:28,:]\n",
    "tot_error_small_up=np.sqrt(np.sum(error_small_up**2))\n",
    "error_small_low=dist_convert(plan_error_low,a_edges_wd,m_edges_wd)[:28,:]\n",
    "tot_error_small_low=np.sqrt(np.sum(error_small_low**2))\n",
    "error_small=(error_small_up+error_small_low)/2"
   ]
  },
  {
   "cell_type": "code",
   "execution_count": 12,
   "id": "48103815",
   "metadata": {
    "scrolled": true
   },
   "outputs": [
    {
     "name": "stdout",
     "output_type": "stream",
     "text": [
      "Gaia will find 8.2 + 1.8 - 2.4 planets around white dwarfs\n"
     ]
    }
   ],
   "source": [
    "print('Gaia will find {:.1f} + {:.1f} - {:.1f} planets around white dwarfs'.format(tot_small,tot_error_small_up, tot_error_small_low))"
   ]
  },
  {
   "cell_type": "markdown",
   "id": "f8d7981c",
   "metadata": {},
   "source": [
    "### Summary stats <a class=\"anchor\" id=\"summary\"></a>\n",
    "<p align=\"right\">(<a href=\"#top\">back to top</a>)</p>"
   ]
  },
  {
   "cell_type": "code",
   "execution_count": 13,
   "id": "98f241c1",
   "metadata": {},
   "outputs": [
    {
     "name": "stdout",
     "output_type": "stream",
     "text": [
      "The smallest mass planet we will detect is 0.03 +/-0.004 MJ\n",
      "The smallest semi-major axis at which we will detect a planet is 1.65 +\\- 0.10 au\n"
     ]
    }
   ],
   "source": [
    "a_val, m_val = np.nonzero(plan_det)\n",
    "min_m_ind=min(m_val)\n",
    "min_m=(m_edges_wd[min_m_ind]+m_edges_wd[min_m_ind+1])/2\n",
    "#uncertainty is bin width\n",
    "delta_m=10**m_edges_wd[min_m_ind+1]-10**m_edges_wd[min_m_ind]\n",
    "\n",
    "min_a_ind=min(a_val)\n",
    "min_a=(a_edges_wd[min_a_ind]+a_edges_wd[min_a_ind+1])/2\n",
    "delta_a=a_edges_wd[min_a_ind+1]-a_edges_wd[min_a_ind]\n",
    "\n",
    "print('The smallest mass planet we will detect is {:.2f} +/-{:.3f} MJ'.format(10**min_m,delta_m/2))\n",
    "print('The smallest semi-major axis at which we will detect a planet is {:.2f} +\\- {:.2f} au'.format(min_a,delta_a/2))"
   ]
  },
  {
   "cell_type": "markdown",
   "id": "fe4732e4",
   "metadata": {},
   "source": [
    "How many planets will we find at less than 3 au?"
   ]
  },
  {
   "cell_type": "code",
   "execution_count": 14,
   "id": "599fe71c",
   "metadata": {},
   "outputs": [],
   "source": [
    "a2=3\n",
    "a3=3.91\n",
    "\n",
    "a2_ind=np.digitize(a2,a_edges_wd)\n",
    "a3_ind=np.digitize(a3,a_edges_wd)\n",
    "\n",
    "\n",
    "r2=np.sum(plan_small[:a2_ind,:])\n",
    "r2_e=np.sqrt(np.sum(error_small[:a2_ind,:]**2))\n",
    "r3=np.sum(plan_small[a2_ind:,:]) #only want to go up to 3.91\n",
    "r3_e=np.sqrt(np.sum(error_small[a2_ind:,:]**2))\n",
    "r2_perc = r2/tot_small*100\n",
    "r2_perce=r2_perc*np.sqrt((r2_e/r2)**2+(tot_error_small_up/tot_small)**2)"
   ]
  },
  {
   "cell_type": "code",
   "execution_count": 15,
   "id": "14b939a2",
   "metadata": {},
   "outputs": [
    {
     "name": "stdout",
     "output_type": "stream",
     "text": [
      "Gaia will find 0.8 +/-0.3 planet inside 3 au\n",
      "9.4+/-4.3% of planets that Gaia will finds will be inside 3au\n"
     ]
    }
   ],
   "source": [
    "print('Gaia will find {:.1f} +/-{:.1f} planet inside 3 au'.format(r2,r2_e))\n",
    "print('{:.1f}+/-{:.1f}% of planets that Gaia will finds will be inside 3au'.format(r2_perc,r2_perce))"
   ]
  },
  {
   "cell_type": "markdown",
   "id": "98eac7f6",
   "metadata": {},
   "source": [
    "How many planets will we find less massive than Jupiter?"
   ]
  },
  {
   "cell_type": "code",
   "execution_count": 16,
   "id": "429cbf96",
   "metadata": {},
   "outputs": [
    {
     "name": "stdout",
     "output_type": "stream",
     "text": [
      "Gaia will find 2.9+\\-0.9 planets less massive than Jupiter\n",
      "35.5+/-13.9% of planets that Gaia will finds will be less massive than Jupiter\n"
     ]
    }
   ],
   "source": [
    "m1=0\n",
    "\n",
    "m1_ind=np.digitize(m1,m_edges_wd)\n",
    "\n",
    "r4=np.sum(plan_small[:,:m1_ind])\n",
    "r4_e=np.sqrt(np.sum(error_small[:,:m1_ind]**2))\n",
    "r4_perc = r4/tot_small*100\n",
    "r4_perce=r4_perc*np.sqrt((r4_e/r4)**2+(tot_error_small_up/tot_small)**2)\n",
    "\n",
    "print('Gaia will find {:.1f}+\\-{:.1f} planets less massive than Jupiter'.format(r4,r4_e))\n",
    "print('{:.1f}+/-{:.1f}% of planets that Gaia will finds will be less massive than Jupiter'.format(r4_perc,r4_perce))"
   ]
  },
  {
   "cell_type": "markdown",
   "id": "12814320",
   "metadata": {},
   "source": [
    "How many will we find more massive than 1MJ outside 3 au?"
   ]
  },
  {
   "cell_type": "code",
   "execution_count": 17,
   "id": "8b694e5b",
   "metadata": {},
   "outputs": [
    {
     "name": "stdout",
     "output_type": "stream",
     "text": [
      "Gaia will find 4.9+\\-1.9 planets more massive than Jupiter outside 3au\n"
     ]
    }
   ],
   "source": [
    "r5=np.sum(plan_small[a2_ind:,m1_ind:])\n",
    "r5_e=np.sqrt(np.sum(error_small[a2_ind:,m1_ind:]**2))\n",
    "\n",
    "print('Gaia will find {:.1f}+\\-{:.1f} planets more massive than Jupiter outside 3au'.format(r5,r5_e))"
   ]
  },
  {
   "cell_type": "markdown",
   "id": "852eae52",
   "metadata": {},
   "source": [
    "How many will we find less massive than 1MJ outside 3au?"
   ]
  },
  {
   "cell_type": "code",
   "execution_count": 18,
   "id": "e7d2fe98",
   "metadata": {},
   "outputs": [
    {
     "name": "stdout",
     "output_type": "stream",
     "text": [
      "Gaia will find 2.6+\\-0.9 planets less massive than Jupiter outside 3au\n"
     ]
    }
   ],
   "source": [
    "r6=np.sum(plan_small[a2_ind:,:m1_ind])\n",
    "r6_e=np.sqrt(np.sum(error_small[a2_ind:,:m1_ind]**2))\n",
    "\n",
    "print('Gaia will find {:.1f}+\\-{:.1f} planets less massive than Jupiter outside 3au'.format(r6,r6_e))"
   ]
  },
  {
   "cell_type": "markdown",
   "id": "b8d91914",
   "metadata": {},
   "source": [
    "How many will we find beyond 3au?"
   ]
  },
  {
   "cell_type": "code",
   "execution_count": 19,
   "id": "87e13f7c",
   "metadata": {},
   "outputs": [
    {
     "name": "stdout",
     "output_type": "stream",
     "text": [
      "Gaia will find 7.5+\\-1.8 planets outside 3au\n",
      "90.6+/-29.7% of planets that Gaia will finds will be between 3-3.91au\n"
     ]
    }
   ],
   "source": [
    "r7=np.sum(plan_small[a2_ind:,:])\n",
    "r7_e=np.sqrt(np.sum(error_small_up[a2_ind:,:]**2))\n",
    "r7_perc = r7/tot_small*100\n",
    "r7_perce=r7_perc*np.sqrt((r7_e/r7)**2+(tot_error_small_up/tot_small)**2)\n",
    "\n",
    "print('Gaia will find {:.1f}+\\-{:.1f} planets outside 3au'.format(r7,r7_e))\n",
    "print('{:.1f}+/-{:.1f}% of planets that Gaia will finds will be between 3-3.91au'.format(r7_perc,r7_perce))"
   ]
  },
  {
   "cell_type": "markdown",
   "id": "7c973209",
   "metadata": {},
   "source": [
    "## Extending the period limit  <a class=\"anchor\" id=\"extend_limit\"></a>\n",
    "<p align=\"right\">(<a href=\"#top\">back to top</a>)</p>\n",
    "Gaia DR3 data suggests some binaries may be recoverable with periods beyond the mission length. Fig 7.19 in https://gea.esac.esa.int/archive/documentation/GDR3/Data_analysis/chap_cu4nss/sec_cu4nss_astrobin/ssec_cu4nss_astrobin_qa.html and 7.60, 7.62 https://gea.esac.esa.int/archive/documentation/GDR3/Data_analysis/chap_cu4nss/sec_cu4nss_combined/ssec_cu4nss_combined_quality.html suggest this could be up to 20-40% beyond the mission length.\n",
    "For a 12 year period around a 0.6Msol white dwarf a=4.42au, for 14 years a=4.9au."
   ]
  },
  {
   "cell_type": "code",
   "execution_count": 20,
   "id": "2e5dde76",
   "metadata": {},
   "outputs": [
    {
     "name": "stdout",
     "output_type": "stream",
     "text": [
      "4.392553739541061\n",
      "4.92852635727817\n"
     ]
    }
   ],
   "source": [
    "print(a_edges_wd[29])\n",
    "print(a_edges_wd[30])"
   ]
  },
  {
   "cell_type": "markdown",
   "id": "1936bb6b",
   "metadata": {},
   "source": [
    "The 29th bin corresponds to a 20% increase and the 30th bin corresponds to a 40% increase in maximum detectable period. The number of planets detectable in these bins will also be added to the figure 7 as a more optimistic prediction."
   ]
  },
  {
   "cell_type": "code",
   "execution_count": 21,
   "id": "f86b7d68",
   "metadata": {},
   "outputs": [
    {
     "name": "stdout",
     "output_type": "stream",
     "text": [
      "Gaia will find 21.6+/-28.3 planets between 3.91 and 4.4 au\n"
     ]
    }
   ],
   "source": [
    "r8 = np.sum(plan_all[29,:])\n",
    "r8_e=np.sqrt(np.sum(error_all_up[29,:])**2)\n",
    "print('Gaia will find {:.1f}+/-{:.1f} planets between 3.91 and 4.4 au'.format(r8,r8_e))"
   ]
  },
  {
   "cell_type": "code",
   "execution_count": 22,
   "id": "becb0391",
   "metadata": {},
   "outputs": [
    {
     "name": "stdout",
     "output_type": "stream",
     "text": [
      "Gaia will find 29.1+/-15.7 planets between 4.4 and 4.9 au\n"
     ]
    }
   ],
   "source": [
    "r9 = np.sum(plan_all[30,:])\n",
    "r9_e=np.sqrt(np.sum(error_av[30,:]**2))\n",
    "print('Gaia will find {:.1f}+/-{:.1f} planets between 4.4 and 4.9 au'.format(r9,r9_e))"
   ]
  },
  {
   "cell_type": "code",
   "execution_count": 23,
   "id": "2b14bc25",
   "metadata": {},
   "outputs": [
    {
     "name": "stdout",
     "output_type": "stream",
     "text": [
      "Gaia will find 50.7+/-18.2 planets between 4 and 5 au\n"
     ]
    }
   ],
   "source": [
    "r10 = np.sum(plan_all[29:31,:])\n",
    "r10_e=np.sqrt(np.sum(error_av[29:31,:]**2))\n",
    "print('Gaia will find {:.1f}+/-{:.1f} planets between 4 and 5 au'.format(r10,r10_e))"
   ]
  },
  {
   "cell_type": "markdown",
   "id": "33a0311d",
   "metadata": {},
   "source": [
    "## Gmag 15 white dwarfs  <a class=\"anchor\" id=\"mag15\"></a>\n",
    "<p align=\"right\">(<a href=\"#top\">back to top</a>)</p>"
   ]
  },
  {
   "cell_type": "code",
   "execution_count": 24,
   "id": "16c5c0e4",
   "metadata": {},
   "outputs": [
    {
     "name": "stdout",
     "output_type": "stream",
     "text": [
      "Gaia will find 4.1 + 0.8 - 1.1 planets around white dwarfs brighter than Gmag=15\n",
      "This is 50 +\\- 14 \\% of detections\n"
     ]
    }
   ],
   "source": [
    "name='15_mag' #use to change if you are importing data for whole catalogue or just Gmag 15\n",
    "plan_det_15=np.loadtxt('Detection_probability/Results/Distributions/detected_planets_{}.csv'.format(name),delimiter=',')\n",
    "plan_error_up=np.loadtxt('Detection_probability/Results/Distributions/upper_error_planets_{}.csv'.format(name),delimiter=',')\n",
    "plan_error_low=np.loadtxt('Detection_probability/Results/Distributions/lower_error_planets_{}.csv'.format(name),delimiter=',')\n",
    "\n",
    "plan_small_15=dist_convert(plan_det_15,a_edges_wd,m_edges_wd)[:28,:]\n",
    "tot_small_15=np.sum(plan_small_15)\n",
    "error_small_up=dist_convert(plan_error_up,a_edges_wd,m_edges_wd)[:28,:]\n",
    "tot_error_small_up=np.sqrt(np.sum(error_small_up**2))\n",
    "error_small_low=dist_convert(plan_error_low,a_edges_wd,m_edges_wd)[:28,:]\n",
    "tot_error_small_low=np.sqrt(np.sum(error_small_low**2))\n",
    "error_small=(error_small_up+error_small_low)/2\n",
    "\n",
    "pe=np.sqrt((tot_error_small_low/tot_small_15)**2+(tot_error_small_up/tot_small)**2)*100*tot_small_15/tot_small\n",
    "print('Gaia will find {:.1f} + {:.1f} - {:.1f} planets around white dwarfs brighter than Gmag=15'.format(tot_small_15,tot_error_small_up,tot_error_small_low))\n",
    "print('This is {:.0f} +\\- {:.0f} \\% of detections'.format(tot_small_15/tot_small*100,pe))"
   ]
  },
  {
   "cell_type": "markdown",
   "id": "5bfce6cc",
   "metadata": {},
   "source": [
    "# Effect of mass cut off  <a class=\"anchor\" id=\"mass_cut\"></a>\n",
    "<p align=\"right\">(<a href=\"#top\">back to top</a>)</p>"
   ]
  },
  {
   "cell_type": "code",
   "execution_count": 25,
   "id": "cd102b1c",
   "metadata": {},
   "outputs": [
    {
     "name": "stdout",
     "output_type": "stream",
     "text": [
      "Gaia will find 9.0 + 2.0 - 2.7 planets around white dwarfs with M-3sigma<M\n"
     ]
    }
   ],
   "source": [
    "name='minus_3me' #use to change if you are importing data for whole catalogue or just Gmag 15\n",
    "plan_det_15=np.loadtxt('Detection_probability/Results/Distributions/detected_planets_{}.csv'.format(name),delimiter=',')\n",
    "plan_error_up=np.loadtxt('Detection_probability/Results/Distributions/upper_error_planets_{}.csv'.format(name),delimiter=',')\n",
    "plan_error_low=np.loadtxt('Detection_probability/Results/Distributions/lower_error_planets_{}.csv'.format(name),delimiter=',')\n",
    "\n",
    "plan_small_15=dist_convert(plan_det_15,a_edges_wd,m_edges_wd)[:28,:]\n",
    "tot_small_15=np.sum(plan_small_15)\n",
    "error_small_up=dist_convert(plan_error_up,a_edges_wd,m_edges_wd)[:28,:]\n",
    "tot_error_small_up=np.sqrt(np.sum(error_small_up**2))\n",
    "error_small_low=dist_convert(plan_error_low,a_edges_wd,m_edges_wd)[:28,:]\n",
    "tot_error_small_low=np.sqrt(np.sum(error_small_low**2))\n",
    "\n",
    "print('Gaia will find {:.1f} + {:.1f} - {:.1f} planets around white dwarfs with M-3sigma<M'.format(tot_small_15,tot_error_small_up,tot_error_small_low))\n"
   ]
  },
  {
   "cell_type": "code",
   "execution_count": 26,
   "id": "4c6fe10a",
   "metadata": {},
   "outputs": [
    {
     "name": "stdout",
     "output_type": "stream",
     "text": [
      "Gaia will find 6.7 + 1.5 - 2.0 planets around white dwarfs with M+3sigma<M\n"
     ]
    }
   ],
   "source": [
    "name='plus_3me' #use to change if you are importing data for whole catalogue or just Gmag 15\n",
    "plan_det_15=np.loadtxt('Detection_probability/Results/Distributions/detected_planets_{}.csv'.format(name),delimiter=',')\n",
    "plan_error_up=np.loadtxt('Detection_probability/Results/Distributions/upper_error_planets_{}.csv'.format(name),delimiter=',')\n",
    "plan_error_low=np.loadtxt('Detection_probability/Results/Distributions/lower_error_planets_{}.csv'.format(name),delimiter=',')\n",
    "\n",
    "plan_small_15=dist_convert(plan_det_15,a_edges_wd,m_edges_wd)[:28,:]\n",
    "tot_small_15=np.sum(plan_small_15)\n",
    "error_small_up=dist_convert(plan_error_up,a_edges_wd,m_edges_wd)[:28,:]\n",
    "tot_error_small_up=np.sqrt(np.sum(error_small_up**2))\n",
    "error_small_low=dist_convert(plan_error_low,a_edges_wd,m_edges_wd)[:28,:]\n",
    "tot_error_small_low=np.sqrt(np.sum(error_small_low**2))\n",
    "\n",
    "print('Gaia will find {:.1f} + {:.1f} - {:.1f} planets around white dwarfs with M+3sigma<M'.format(tot_small_15,tot_error_small_up,tot_error_small_low))\n"
   ]
  },
  {
   "cell_type": "code",
   "execution_count": 27,
   "id": "e90656d8",
   "metadata": {},
   "outputs": [
    {
     "name": "stdout",
     "output_type": "stream",
     "text": [
      "Gaia will find 9.4 + 2.1 - 2.8 planets around white dwarfs with M<M+3sigma\n"
     ]
    }
   ],
   "source": [
    "name='plus_3_cut' #use to change if you are importing data for whole catalogue or just Gmag 15\n",
    "plan_det_15=np.loadtxt('Detection_probability/Results/Distributions/detected_planets_{}.csv'.format(name),delimiter=',')\n",
    "plan_error_up=np.loadtxt('Detection_probability/Results/Distributions/upper_error_planets_{}.csv'.format(name),delimiter=',')\n",
    "plan_error_low=np.loadtxt('Detection_probability/Results/Distributions/lower_error_planets_{}.csv'.format(name),delimiter=',')\n",
    "\n",
    "plan_small_15=dist_convert(plan_det_15,a_edges_wd,m_edges_wd)[:28,:]\n",
    "tot_small_15=np.sum(plan_small_15)\n",
    "error_small_up=dist_convert(plan_error_up,a_edges_wd,m_edges_wd)[:28,:]\n",
    "tot_error_small_up=np.sqrt(np.sum(error_small_up**2))\n",
    "error_small_low=dist_convert(plan_error_low,a_edges_wd,m_edges_wd)[:28,:]\n",
    "tot_error_small_low=np.sqrt(np.sum(error_small_low**2))\n",
    "\n",
    "print('Gaia will find {:.1f} + {:.1f} - {:.1f} planets around white dwarfs with M<M+3sigma'.format(tot_small_15,tot_error_small_up,tot_error_small_low))\n"
   ]
  },
  {
   "cell_type": "code",
   "execution_count": 28,
   "id": "852c741f",
   "metadata": {},
   "outputs": [
    {
     "name": "stdout",
     "output_type": "stream",
     "text": [
      "Gaia will find 6.9 + 1.6 - 2.1 planets around white dwarfs with M<M-sigma\n"
     ]
    }
   ],
   "source": [
    "name='minus_1_cut' #use to change if you are importing data for whole catalogue or just Gmag 15\n",
    "plan_det_15=np.loadtxt('Detection_probability/Results/Distributions/detected_planets_{}.csv'.format(name),delimiter=',')\n",
    "plan_error_up=np.loadtxt('Detection_probability/Results/Distributions/upper_error_planets_{}.csv'.format(name),delimiter=',')\n",
    "plan_error_low=np.loadtxt('Detection_probability/Results/Distributions/lower_error_planets_{}.csv'.format(name),delimiter=',')\n",
    "\n",
    "plan_small_15=dist_convert(plan_det_15,a_edges_wd,m_edges_wd)[:28,:]\n",
    "tot_small_15=np.sum(plan_small_15)\n",
    "error_small_up=dist_convert(plan_error_up,a_edges_wd,m_edges_wd)[:28,:]\n",
    "tot_error_small_up=np.sqrt(np.sum(error_small_up**2))\n",
    "error_small_low=dist_convert(plan_error_low,a_edges_wd,m_edges_wd)[:28,:]\n",
    "tot_error_small_low=np.sqrt(np.sum(error_small_low**2))\n",
    "\n",
    "print('Gaia will find {:.1f} + {:.1f} - {:.1f} planets around white dwarfs with M<M-sigma'.format(tot_small_15,tot_error_small_up,tot_error_small_low))\n"
   ]
  },
  {
   "cell_type": "markdown",
   "id": "f3fc33c7",
   "metadata": {},
   "source": [
    "Only changing the cut off to $M-\\sigma$ changes the value beyond the error. "
   ]
  },
  {
   "cell_type": "code",
   "execution_count": null,
   "id": "3ff56c04",
   "metadata": {},
   "outputs": [],
   "source": []
  }
 ],
 "metadata": {
  "kernelspec": {
   "display_name": "Python 3",
   "language": "python",
   "name": "python3"
  },
  "language_info": {
   "codemirror_mode": {
    "name": "ipython",
    "version": 3
   },
   "file_extension": ".py",
   "mimetype": "text/x-python",
   "name": "python",
   "nbconvert_exporter": "python",
   "pygments_lexer": "ipython3",
   "version": "3.8.8"
  }
 },
 "nbformat": 4,
 "nbformat_minor": 5
}
