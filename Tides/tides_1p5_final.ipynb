{
 "cells": [
  {
   "cell_type": "code",
   "execution_count": null,
   "id": "aa68dbc8",
   "metadata": {},
   "outputs": [],
   "source": [
    "from astropy import units as u\n",
    "from astropy.io import ascii\n",
    "import numpy as np\n",
    "from scipy import integrate\n",
    "from matplotlib import pyplot as plt\n",
    "import csv"
   ]
  },
  {
   "cell_type": "code",
   "execution_count": null,
   "id": "c425900d",
   "metadata": {},
   "outputs": [],
   "source": [
    "# equation for semimajor axis change under tidal decay and stellar mass loss. See Mustill & Villaver (2012)\n",
    "\n",
    "def eom(t,x,star,Mpl):\n",
    "    a = x\n",
    "    Ms = np.interp(t,star.t,star.Ms)\n",
    "    Rs = np.interp(t,star.t,star.Rs)\n",
    "    Menv = np.interp(t,star.t,star.Menv)\n",
    "    Ls = np.interp(t,star.t,star.Ls)\n",
    "    mdot = np.interp(t,star.t,star.mdot)\n",
    "    #mean motion\n",
    "    n = 2*np.pi*np.sqrt(Ms/(a**3))\n",
    "    #convective timescale\n",
    "    tconv = (Menv*Rs*Rs/(star.etaf*Ls))**(1./3.)\n",
    "        \n",
    "    freq = (np.pi/(n*star.cf*tconv))**star.gammaf\n",
    "    if freq > 1:\n",
    "        f2s = star.fprime\n",
    "    else:\n",
    "        f2s = star.fprime*freq\n",
    "    \n",
    "    merat = Menv/Ms\n",
    "    mrat = Mpl/Ms\n",
    "    \n",
    "    adot_tide = -merat*(1+mrat)*mrat*(Rs/a)**7*Rs*2*f2s/(9*tconv)\n",
    "    adot_ml = -a*mdot/(Ms+Mpl)\n",
    "    \n",
    "    return adot_tide + adot_ml\n",
    "\n",
    "class Star:\n",
    "    \n",
    "    def __init__(self,t,Ms,Rs,Menv,Ls,mdot,etaf=3,gammaf=2,cf=1,fprime=4.5):\n",
    "        \n",
    "        self.t = t\n",
    "        self.Ms = Ms\n",
    "        self.Rs = Rs\n",
    "        self.Menv = Menv\n",
    "        self.Ls = Ls\n",
    "        self.mdot = mdot\n",
    "        self.etaf = etaf\n",
    "        self.cf = cf\n",
    "        self.gammaf = gammaf\n",
    "        self.fprime = fprime\n",
    "\n",
    "def read_star(file):\n",
    "    \n",
    "    Lsol = (1*u.Lsun).decompose().to(u.au**2 * u.Msun / u.yr**3).value #Solar luminosity to code units\n",
    "    Rsol = (1*u.Rsun).to(u.au).value #Solar radius to code units\n",
    "    \n",
    "    data = ascii.read(file,format='csv',names=('Time','Teff','logL','Ms','Rs','Me0','Mee','Md'),delimiter=' ')\n",
    "    \n",
    "    Ls = 10**data['logL'] * Lsol\n",
    "\n",
    "    data.add_column(Ls,name='Ls')\n",
    "    data['Rs'] = data['Rs']*Rsol\n",
    "    \n",
    "    return data\n",
    "\n",
    "def inside(t,x,star,mpl):\n",
    "    return x - np.interp(t,star.t,star.Rs)\n",
    "\n",
    "inside.terminal = True\n",
    "inside.direction = -1"
   ]
  },
  {
   "cell_type": "code",
   "execution_count": null,
   "id": "362c88b6",
   "metadata": {},
   "outputs": [],
   "source": [
    "# read the 1.5MSol stellar AGB model from Vassiliadis & Wood (1993)\n",
    "\n",
    "data = read_star('agb1p5.dat')\n",
    "\n",
    "star = Star(data['Time'],data['Ms'],data['Rs'],data['Me0'],data['Ls'],-data['Md'])"
   ]
  },
  {
   "cell_type": "code",
   "execution_count": null,
   "id": "2a37c788",
   "metadata": {},
   "outputs": [],
   "source": [
    "# do a test integartion and plot the results\n",
    "\n",
    "a0 = np.array([2.5])\n",
    "mpl = 3e-6\n",
    "\n",
    "times = np.linspace(0,1e6,1001)"
   ]
  },
  {
   "cell_type": "code",
   "execution_count": null,
   "id": "a0eb96d0",
   "metadata": {},
   "outputs": [],
   "source": [
    "rtol = 1e-12\n",
    "atol = 1e-12\n",
    "\n",
    "sol = integrate.solve_ivp(eom,(times[0],times[-1]),a0,method='DOP853',t_eval=times,args=[star,mpl],\n",
    "                          rtol=rtol,atol=atol,events=inside)"
   ]
  },
  {
   "cell_type": "code",
   "execution_count": null,
   "id": "32b5b862",
   "metadata": {},
   "outputs": [],
   "source": [
    "plt.figure()\n",
    "\n",
    "plt.plot(sol.t,sol.y[0])\n",
    "plt.plot(star.t,star.Rs)\n",
    "plt.xlim([times[0],times[-1]])\n",
    "plt.ylim([0,10])\n",
    "plt.show()"
   ]
  },
  {
   "cell_type": "code",
   "execution_count": null,
   "id": "a36d36cd",
   "metadata": {},
   "outputs": [],
   "source": [
    "sol"
   ]
  },
  {
   "cell_type": "code",
   "execution_count": null,
   "id": "2d03f269",
   "metadata": {},
   "outputs": [],
   "source": [
    "# set up a coarse grid in planet mass and semimajor axis\n",
    "\n",
    "na = 301\n",
    "nm = 31\n",
    "\n",
    "agrid = np.linspace(1,10,na)\n",
    "mgrid = np.logspace(np.log10((1*u.Mearth/u.Msun).decompose()).value,np.log10((13*u.Mjup/u.Msun).decompose()).value,\n",
    "                    nm)"
   ]
  },
  {
   "cell_type": "code",
   "execution_count": null,
   "id": "3b372bb4",
   "metadata": {},
   "outputs": [],
   "source": [
    "file = 'results_1p5_coarse.csv'\n",
    "tiny = 1e-12\n",
    "try:\n",
    "    results = ascii.read(file,format='csv')\n",
    "    mdone = results['M [M_sol]'][-1]\n",
    "    start = np.min(np.where(np.abs(mdone-mgrid) <= tiny)[0])\n",
    "except FileNotFoundError:\n",
    "    start = 0\n",
    "    with open(file,'w',newline = '') as csvfile:\n",
    "        writer = csv.writer(csvfile,delimiter=',')\n",
    "        writer.writerow(['M [M_sol]','a_i [au]','a_f [au]','status'])"
   ]
  },
  {
   "cell_type": "code",
   "execution_count": null,
   "id": "4b36a79b",
   "metadata": {},
   "outputs": [],
   "source": [
    "run_main = False"
   ]
  },
  {
   "cell_type": "code",
   "execution_count": null,
   "id": "d9713c24",
   "metadata": {},
   "outputs": [],
   "source": [
    "if run_main:\n",
    "    af = np.zeros((nm,na))\n",
    "    status = np.zeros((nm,na))\n",
    "\n",
    "    for i in range(nm):\n",
    "        print('Mass {:8e} ({:4d} of {:4d})'.format(mgrid[i],i+1,nm))\n",
    "        if i < start:\n",
    "            print('Already run...')\n",
    "            continue\n",
    "        for j in range(na):\n",
    "            sol = integrate.solve_ivp(eom,(times[0],times[-1]),[agrid[j]],method='DOP853',t_eval=times,\n",
    "                                      args=[star,mgrid[i]],rtol=rtol,atol=atol,events=inside)\n",
    "            af[i,j] = sol.y[0][-1]\n",
    "            status[i,j] = sol.status\n",
    "            print('SMA {:8e} ({:4d} of {:4d});   status: {:3f}'.format(agrid[j],j+1,na,status[i,j]))\n",
    "            \n",
    "        #save every mass step\n",
    "        for j in range(na):\n",
    "            with open(file,'a',newline = '') as csvfile:\n",
    "                writer = csv.writer(csvfile,delimiter=',')\n",
    "                writer.writerow([mgrid[i],agrid[j],af[i,j],status[i,j]])"
   ]
  },
  {
   "cell_type": "code",
   "execution_count": null,
   "id": "0a9e09f4",
   "metadata": {},
   "outputs": [],
   "source": [
    "if run_main:\n",
    "    plt.figure()\n",
    "    plt.plot(agrid,np.transpose(af*(1-status)),'.')\n",
    "    plt.xlabel('initial a [au]')\n",
    "    plt.ylabel('final a [au]]')\n",
    "    plt.savefig('af.pdf')\n",
    "    #plt.show()"
   ]
  },
  {
   "cell_type": "code",
   "execution_count": null,
   "id": "22f98510",
   "metadata": {},
   "outputs": [],
   "source": [
    "if run_main:\n",
    "    plt.figure()\n",
    "    plt.contourf(agrid,mgrid,af*(1-status))\n",
    "    plt.xscale('log')\n",
    "    plt.yscale('log')\n",
    "    plt.xlabel('initial a [au]')\n",
    "    plt.ylabel('planet mass [MSol]')\n",
    "    plt.colorbar(label = 'final a [au]')\n",
    "    #plt.show()\n",
    "    plt.savefig('af_contour.pdf')"
   ]
  },
  {
   "cell_type": "code",
   "execution_count": null,
   "id": "cacb7c18",
   "metadata": {},
   "outputs": [],
   "source": [
    "#more detail around boundary\n",
    "\n",
    "results = ascii.read(file,format='csv')"
   ]
  },
  {
   "cell_type": "code",
   "execution_count": null,
   "id": "c7540699",
   "metadata": {},
   "outputs": [],
   "source": [
    "m = 0\n",
    "mass = []\n",
    "boundary = []\n",
    "status = 1\n",
    "\n",
    "for i in range(len(results)):\n",
    "    if np.abs(results['M [M_sol]'][i] - m) >= tiny: #mass changed\n",
    "        m = results['M [M_sol]'][i]\n",
    "    else:\n",
    "        if np.abs(results['status'][i] - status) >= tiny: #reached boundary\n",
    "            mass.append(m)\n",
    "            boundary.append([results['a_i [au]'][i-1],results['a_i [au]'][i]])\n",
    "    status = results['status'][i]\n",
    "    \n",
    "mass = np.array(mass)\n",
    "boundary = np.array(boundary)"
   ]
  },
  {
   "cell_type": "code",
   "execution_count": null,
   "id": "d85b8e41",
   "metadata": {},
   "outputs": [],
   "source": [
    "plt.plot(mass,boundary,'.')\n",
    "plt.xscale('log')\n",
    "plt.yscale('log')\n",
    "plt.show()"
   ]
  },
  {
   "cell_type": "code",
   "execution_count": null,
   "id": "33bc9186",
   "metadata": {},
   "outputs": [],
   "source": [
    "nm = len(mass)\n",
    "na = 91\n",
    "da = 0.03\n",
    "af = np.zeros((nm,na))\n",
    "status = np.zeros((nm,na))\n",
    "times = np.linspace(0,1e6,1001)"
   ]
  },
  {
   "cell_type": "code",
   "execution_count": null,
   "id": "63628333",
   "metadata": {},
   "outputs": [],
   "source": [
    "file = 'results_1p5_fine.csv'\n",
    "tiny = 1e-12\n",
    "try:\n",
    "    results = ascii.read(file,format='csv')\n",
    "    mdone = results['M [M_sol]'][-1]\n",
    "    start = np.min(np.where(np.abs(mdone-mgrid) <= tiny)[0])\n",
    "except FileNotFoundError:\n",
    "    start = 0\n",
    "    with open(file,'w',newline = '') as csvfile:\n",
    "        writer = csv.writer(csvfile,delimiter=',')\n",
    "        writer.writerow(['M [M_sol]','a_i [au]','a_f [au]','status'])\n",
    "except IndexError:\n",
    "    start = 0"
   ]
  },
  {
   "cell_type": "code",
   "execution_count": null,
   "id": "cccee4d6",
   "metadata": {},
   "outputs": [],
   "source": [
    "run_fine = False"
   ]
  },
  {
   "cell_type": "code",
   "execution_count": null,
   "id": "95f409e2",
   "metadata": {},
   "outputs": [],
   "source": [
    "if run_fine:\n",
    "    for i in range(nm):\n",
    "        print('Mass {:8e} ({:4d} of {:4d})'.format(mass[i],i+1,nm))\n",
    "        if i < start:\n",
    "            print('Already run...')\n",
    "            continue\n",
    "        afine = np.linspace(boundary[i,0],boundary[i,1]+2*da,na)\n",
    "        for j in range(na):\n",
    "            if j == 0:\n",
    "                continue\n",
    "            sol = integrate.solve_ivp(eom,(times[0],times[-1]),[afine[j]],method='DOP853',t_eval=times,\n",
    "                                      args=[star,mass[i]],rtol=rtol,atol=atol,events=inside)\n",
    "            af[i,j] = sol.y[0][-1]\n",
    "            status[i,j] = sol.status\n",
    "            print('SMA {:8e} ({:4d} of {:4d});   status: {:3f}'.format(afine[j],j+1,na,status[i,j]))\n",
    "\n",
    "        #save every mass step\n",
    "        with open(file,'a',newline = '') as csvfile:\n",
    "            for j in range(na):\n",
    "                if j == 0:\n",
    "                    continue\n",
    "                writer = csv.writer(csvfile,delimiter=',')\n",
    "                writer.writerow([mass[i],afine[j],af[i,j],status[i,j]])"
   ]
  },
  {
   "cell_type": "code",
   "execution_count": null,
   "id": "af589c40",
   "metadata": {},
   "outputs": [],
   "source": [
    "results = ascii.read(file,format='csv')\n",
    "\n",
    "tiny = 1e-12\n",
    "\n",
    "m = 0\n",
    "mass = []\n",
    "boundary = []\n",
    "status = 1\n",
    "\n",
    "for i in range(len(results)):\n",
    "    if np.abs(results['M [M_sol]'][i] - m) >= tiny: #mass changed\n",
    "        m = results['M [M_sol]'][i]\n",
    "    else:\n",
    "        if np.abs(results['status'][i] - status) >= tiny: #reached boundary\n",
    "            mass.append(m)\n",
    "            boundary.append([results['a_i [au]'][i-1],results['a_i [au]'][i]])\n",
    "    status = results['status'][i]\n",
    "    \n",
    "mass = np.array(mass)\n",
    "boundary = np.array(boundary)"
   ]
  },
  {
   "cell_type": "code",
   "execution_count": null,
   "id": "487508fc",
   "metadata": {},
   "outputs": [],
   "source": [
    "plt.figure()\n",
    "\n",
    "plt.loglog(mass,boundary,'.')\n",
    "\n",
    "plt.show()"
   ]
  },
  {
   "cell_type": "code",
   "execution_count": null,
   "id": "efd74c2d",
   "metadata": {},
   "outputs": [],
   "source": [
    "plt.figure()\n",
    "plt.plot(results['a_i [au]'],np.transpose(results['a_f [au]']*(1-results['status'])),'.')\n",
    "plt.xlabel('initial a [au]')\n",
    "plt.ylabel('final a [au]]')\n",
    "plt.show()"
   ]
  },
  {
   "cell_type": "code",
   "execution_count": null,
   "id": "2261e0bd",
   "metadata": {},
   "outputs": [],
   "source": []
  }
 ],
 "metadata": {
  "kernelspec": {
   "display_name": "Python 3 (ipykernel)",
   "language": "python",
   "name": "python3"
  },
  "language_info": {
   "codemirror_mode": {
    "name": "ipython",
    "version": 3
   },
   "file_extension": ".py",
   "mimetype": "text/x-python",
   "name": "python",
   "nbconvert_exporter": "python",
   "pygments_lexer": "ipython3",
   "version": "3.9.12"
  }
 },
 "nbformat": 4,
 "nbformat_minor": 5
}
