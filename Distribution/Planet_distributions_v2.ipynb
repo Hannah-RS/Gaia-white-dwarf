{
 "cells": [
  {
   "cell_type": "markdown",
   "id": "1f405ed5",
   "metadata": {},
   "source": [
    "# Planet distributions\n",
    "\n",
    "This notebook calculates the number of planets per log semi-major axis and log M for the main sequence and around white dwarfs with $1M_\\odot$ and $1.5M_\\odot$ progenitors using the results of a post main sequence planetary system evolution simulation. The main sequence planet occurrence rate is the epos symmetric fit from Fernandes et al. ‘Hints for a Turnover at the Snow Line in the Giant Planet Occurrence Rate’. The Astrophysical Journal 874, no. 1 (26 March 2019): 81. https://doi.org/10.3847/1538-4357/ab0300. The bins used for the detection probabilities are from data provided by Piero Ranalli converting Fig. 5 in Ranalli, Piero, David Hobbs, and Lennart Lindegren. 2018. ‘Astrometry and Exoplanets in the Gaia Era: A Bayesian Approach to Detection and Parameter Recovery’. Astronomy & Astrophysics 614 (June): A30. https://doi.org/10.1051/0004-6361/201730921 to square bins.\n",
    "\n",
    "\n",
    "The white dwarf planet distribution, errors and bin edges are saved as csv files in the distribution folder.\n",
    "\n",
    "**Version info**\n",
    "This version just makes the distributions using the Ranalli (2018) bins that are then used in subsequent calculations.\n",
    "**Units**\n",
    "+ a - au\n",
    "+ logM is log (M/Mj)\n",
    "+ M - Mj\n",
    "\n",
    "**Ongoing Issues**\n",
    "Setting with copy warning when defining a new column in data frame. Am using .loc as suggested but still getting a warning and I don't know why. I don't think it is a problem as have not redefined variables at any point so am ignoring it."
   ]
  },
  {
   "cell_type": "markdown",
   "id": "fbb66e4f",
   "metadata": {},
   "source": [
    "## Table of Contents:  <a class=\"anchor\" id=\"top\"></a>\n",
    "* [Set-up](#setup)\n",
    "    + [Import modules](#modules)\n",
    "    + [Import data](#data)\n",
    "    + [Choose number of bins](#bins)\n",
    "* [Main sequence planet occurrence rate](#main-sequence)\n",
    "    + [Distribution functions](#main-sequence-functions)\n",
    "    + [Main sequence figure 4](#main-sequence-plot)\n",
    "* [White dwarf planet distribution](#wd-dist)\n",
    "    + [Calculations for plots and numerical comparison](#plot-calc)\n",
    "    + [Plots for paper](#wd-plots)\n",
    "         + [Gaia detection limits](#gaia-lim)\n",
    "         + [1Msol progenitor - figure 5a](#1Msol-plot)\n",
    "         + [1.5Msol progenitor - figure 5b](#1.5Msol-plot)\n",
    "    + [Comparison of MS and post MS occurrence rates](#comparison)\n",
    "         + [Save data for use with detection probabilities](#save)"
   ]
  },
  {
   "cell_type": "markdown",
   "id": "9841c9b7",
   "metadata": {},
   "source": [
    "# Set-up <a class=\"anchor\" id=\"set-up\"></a>\n",
    "<p align=\"right\">(<a href=\"#top\">back to top</a>)</p>"
   ]
  },
  {
   "cell_type": "markdown",
   "id": "f60cb5f5",
   "metadata": {},
   "source": [
    "## Import modules <a class=\"anchor\" id=\"modules\"></a>"
   ]
  },
  {
   "cell_type": "code",
   "execution_count": 2,
   "id": "68a51b99",
   "metadata": {},
   "outputs": [],
   "source": [
    "import pandas as pd\n",
    "import numpy as np\n",
    "import matplotlib.pyplot as plt\n",
    "import matplotlib.colors as mcolors\n",
    "import seaborn as sns"
   ]
  },
  {
   "cell_type": "markdown",
   "id": "263e24e5",
   "metadata": {},
   "source": [
    "## Import simulation data <a class=\"anchor\" id=\"data\"></a>"
   ]
  },
  {
   "cell_type": "code",
   "execution_count": 2,
   "id": "a51b74e8",
   "metadata": {},
   "outputs": [],
   "source": [
    "#from import_data_fn import import_data_1"
   ]
  },
  {
   "cell_type": "code",
   "execution_count": 3,
   "id": "a7bde745",
   "metadata": {},
   "outputs": [],
   "source": [
    "from import_data_fn import import_data_1"
   ]
  },
  {
   "cell_type": "raw",
   "id": "363d77d5",
   "metadata": {},
   "source": [
    "Function for importing 1Msol simulation data\n",
    "\n",
    ":param engulfed: bool, if True include engulfed planets in data\n",
    ":param jupiter_mass: bool, if True convert planet masses to units of Jupiter mass, if False returns solar mass planets\n",
    ":param log_mass: bool, if True return logarithm of mass in chosen units\n",
    ":param path: str, default is blank, path to simulation_data folder from where the code is being run\n",
    "\n",
    ":returns: data frame with columns [M, a_i, a_f, status, (logM)], status=1 means engulfed, status=0 means survived\n",
    "\"\"\""
   ]
  },
  {
   "cell_type": "code",
   "execution_count": 4,
   "id": "3b353262",
   "metadata": {},
   "outputs": [],
   "source": [
    "from import_data_fn2 import import_data_1p5"
   ]
  },
  {
   "cell_type": "code",
   "execution_count": 5,
   "id": "12efe77f",
   "metadata": {},
   "outputs": [],
   "source": [
    "data=import_data_1(True,True,True,'')"
   ]
  },
  {
   "cell_type": "code",
   "execution_count": 6,
   "id": "74361c60",
   "metadata": {},
   "outputs": [],
   "source": [
    "data1p5=import_data_1p5(True,True,True,'') #same as above but for 1.5Msol progenitor"
   ]
  },
  {
   "cell_type": "code",
   "execution_count": 38,
   "id": "51f6dd26",
   "metadata": {},
   "outputs": [
    {
     "data": {
      "text/plain": [
       "12121"
      ]
     },
     "execution_count": 38,
     "metadata": {},
     "output_type": "execute_result"
    }
   ],
   "source": [
    "len(data1p5)"
   ]
  },
  {
   "cell_type": "markdown",
   "id": "5b5be790",
   "metadata": {},
   "source": [
    "## Set edges"
   ]
  },
  {
   "cell_type": "code",
   "execution_count": 3,
   "id": "d10ef8ba",
   "metadata": {},
   "outputs": [],
   "source": [
    "# a bins from converting Fig 5 in Ranalli et al. (2018) to square bins\n",
    "mwd=0.6\n",
    "yedges10yr = np.array([-1.1  , -1.025, -0.95 , -0.875, -0.8  , -0.725, -0.65 , -0.575, \\\n",
    "       -0.5  , -0.425, -0.35 , -0.275, -0.2  , -0.125, -0.05 ,  0.025, \\\n",
    "        0.1  ,  0.175,  0.25 ,  0.325,  0.4  ,  0.475,  0.55 ,  0.625, \\\n",
    "        0.7  ,  0.775,  0.85 ,  0.925,  1.   ,  1.075,  1.15 ,  1.225, \\\n",
    "        1.3  ,  1.375])\n",
    "unlogP=10**yedges10yr\n",
    "a_edges=(mwd*(unlogP)**2)**(1/3)\n",
    "nbins_a=len(a_edges)-1\n",
    "nbins_m=31"
   ]
  },
  {
   "cell_type": "code",
   "execution_count": 8,
   "id": "41c1c9bb",
   "metadata": {},
   "outputs": [
    {
     "data": {
      "text/plain": [
       "0.20623863125292477"
      ]
     },
     "execution_count": 8,
     "metadata": {},
     "output_type": "execute_result"
    }
   ],
   "source": [
    "np.average(np.ediff1d(a_edges))"
   ]
  },
  {
   "cell_type": "markdown",
   "id": "6fa854af",
   "metadata": {},
   "source": [
    "# Main sequence planet occurrence rate <a class=\"anchor\" id=\"main-sequence\"></a>\n",
    "<p align=\"right\">(<a href=\"#top\">back to top</a>)</p>"
   ]
  },
  {
   "cell_type": "markdown",
   "id": "225438ce",
   "metadata": {},
   "source": [
    "Calculate $\\left(\\frac{d^2N_{MS}}{dloga\\,dlogM}\\right)_{ik}$\n",
    "\n",
    "Create a histogram with the same number of bins and minimum/maximum values as our simulation data where the value of each bin is the main sequence planet occurrence rate."
   ]
  },
  {
   "cell_type": "code",
   "execution_count": 8,
   "id": "fa625625",
   "metadata": {},
   "outputs": [],
   "source": [
    "hist_val, a_edges, m_edges=np.histogram2d(data['a_i'],data['logM'],bins=[a_edges,nbins_m]) #find histogram - last bin is [a, amax] i.e. max value is included"
   ]
  },
  {
   "cell_type": "markdown",
   "id": "158a2fcc",
   "metadata": {},
   "source": [
    "## Import functions for main sequence planet occurrence rate and error <a class=\"anchor\" id=\"main-sequence-functions\"></a>"
   ]
  },
  {
   "cell_type": "code",
   "execution_count": 9,
   "id": "847ce0e4",
   "metadata": {},
   "outputs": [],
   "source": [
    "from planet_occurrence_full import fern_plan_occ"
   ]
  },
  {
   "cell_type": "raw",
   "id": "2d94e2f6",
   "metadata": {},
   "source": [
    "\"\"\"\n",
    "Function for full fernandes planet occurence rate for a given mass and semimajor axis\n",
    "Uses the mean values from Fernandes et al. 2019 \n",
    "Assume the progenitor star was 1Msol\n",
    "\n",
    ":param a: float or np.array, semi major axis [au]\n",
    ":param M: float or np.array, mass [Mjup]\n",
    ":param array: str, mass or a, decide which value is constant and which will be iterated over,\n",
    "                    default is a\n",
    "\n",
    ":returns f: array d^2N/dloga dlogm\n",
    "\"\"\""
   ]
  },
  {
   "cell_type": "code",
   "execution_count": 10,
   "id": "63b7f427",
   "metadata": {},
   "outputs": [],
   "source": [
    "from fernandes_planet_error import fern_plan_error"
   ]
  },
  {
   "cell_type": "markdown",
   "id": "5a1bac45",
   "metadata": {},
   "source": [
    "Create array of $\\frac{d^2N_{MS}}{dlog a dlogP}$ "
   ]
  },
  {
   "cell_type": "code",
   "execution_count": 11,
   "id": "2a3f5dbd",
   "metadata": {},
   "outputs": [],
   "source": [
    "#create an array with same dimensions as hist_val\n",
    "occ_val=np.zeros([nbins_a,nbins_m])\n",
    "error_val=np.zeros([nbins_a,nbins_m])\n",
    "plot_occ_val=np.zeros(np.shape(hist_val)) #same thing but will be scaled by a/log10(e) so d^2N/da dlogM for plotting\n",
    "a_mid=(a_edges[1:]+a_edges[:-1])/2\n",
    "m_mid=(m_edges[1:]+m_edges[:-1])/2\n",
    "m_mid_unlog=(10**m_mid)\n",
    "\n",
    "for i in range(len(m_mid)):\n",
    "    occ_val[:,i]=fern_plan_occ(a_mid,m_mid_unlog[i])\n",
    "    error_val[:,i]=fern_plan_error(a_mid,m_mid_unlog[i])\n",
    "    plot_occ_val[:,i]=occ_val[:,i]*a_mid/np.log10(np.exp(1))"
   ]
  },
  {
   "cell_type": "markdown",
   "id": "084e2175",
   "metadata": {},
   "source": [
    "## Distribution plot in paper <a class=\"anchor\" id=\"main-sequence-plot\"></a>"
   ]
  },
  {
   "cell_type": "code",
   "execution_count": 12,
   "id": "28a8b4de",
   "metadata": {},
   "outputs": [
    {
     "data": {
      "image/png": "[encoded data removed]",
      "text/plain": [
       "<Figure size 1152x576 with 2 Axes>"
      ]
     },
     "metadata": {
      "needs_background": "light"
     },
     "output_type": "display_data"
    }
   ],
   "source": [
    "with sns.plotting_context('paper',font_scale=1.75):\n",
    "    plt.figure(figsize=[16,8])\n",
    "    plt.pcolormesh(a_edges,10**m_edges,np.transpose(plot_occ_val),norm=mcolors.LogNorm()) # use same vmin and vmax as other plots to make them comparable\n",
    "    plt.yscale('log')\n",
    "    plt.xlabel('a/au')\n",
    "    plt.ylabel('M/M$_J$')\n",
    "    #plt.title('Number of planets per log semi-major axis and log M on the main sequence')\n",
    "    plt.colorbar(label=r'$\\frac{d^2N}{da\\:dlogM}$')\n",
    "    #plt.savefig('../../Plots/main_sequence_planet_distribution.pdf',bbox_inches='tight')"
   ]
  },
  {
   "cell_type": "markdown",
   "id": "e230568c",
   "metadata": {},
   "source": [
    "# White dwarf planet occurrence rate <a class=\"anchor\" id=\"wd-dist\"></a> \n",
    "<p align=\"right\">(<a href=\"#top\">back to top</a>)</p>"
   ]
  },
  {
   "cell_type": "markdown",
   "id": "50fc7f5f",
   "metadata": {},
   "source": [
    "**Step 1** Calculate count_weight $C_{ik}=\\left(\\frac{d^2N_{MS}}{dloga\\,dlogM}\\right)_{ik}\\frac{1}{B_{ik}}$ for each simulated planet. $\\frac{1}{B_{ik}}$ is number of planets in ik bin.\n",
    "$\\sigma_{C_{ik}}=\\frac{1}{B_{ik}}\\sigma\\left(\\frac{d^2N_{MS}}{dloga\\,dlogM}\\right)_{ik}$. i= main sequence semi-major axis bin, j= white dwarf semi-major axis bin, k = mass bin"
   ]
  },
  {
   "cell_type": "markdown",
   "id": "89e0b018",
   "metadata": {},
   "source": [
    "First find the bin each planet belongs in. Do for 1$M_\\odot$ and 1.5 $M_\\odot$ progenitors."
   ]
  },
  {
   "cell_type": "code",
   "execution_count": 13,
   "id": "2e358532",
   "metadata": {},
   "outputs": [],
   "source": [
    "data.loc[:,'ai_index']=np.digitize(data['a_i'],a_edges) #find index of bin it belongs to in initial a space\n",
    "data.loc[:,'m_index']=np.digitize(data['logM'],m_edges) #find index of bin it belongs to in m space"
   ]
  },
  {
   "cell_type": "code",
   "execution_count": 14,
   "id": "522ba9df",
   "metadata": {},
   "outputs": [],
   "source": [
    "data1p5.loc[:,'ai_index']=np.digitize(data1p5['a_i'],a_edges) #find index of bin it belongs to in initial a space\n",
    "data1p5.loc[:,'m_index']=np.digitize(data1p5['logM'],m_edges) #find index of bin it belongs to in m space"
   ]
  },
  {
   "cell_type": "code",
   "execution_count": 15,
   "id": "0274ccbc",
   "metadata": {},
   "outputs": [],
   "source": [
    "#have to relabel as digitize does not include the largest bin edge it does [a amax) so need to down label\n",
    "data.loc[(data.ai_index == (nbins_a+1)),'ai_index']=nbins_a\n",
    "data.loc[(data.m_index == (nbins_m+1)),'m_index']=nbins_m"
   ]
  },
  {
   "cell_type": "code",
   "execution_count": 16,
   "id": "7a001824",
   "metadata": {},
   "outputs": [],
   "source": [
    "#have to relabel as digitize does not include the largest bin edge it does [a amax) so need to down label\n",
    "data1p5.loc[(data1p5.ai_index == (nbins_a+1)),'ai_index']=nbins_a\n",
    "data1p5.loc[(data1p5.m_index == (nbins_m+1)),'m_index']=nbins_m"
   ]
  },
  {
   "cell_type": "code",
   "execution_count": 17,
   "id": "9dee3497",
   "metadata": {},
   "outputs": [],
   "source": [
    "#create a new column for weighting which is the planet occurrence rate in that bin divided by number of planets in that bin\n",
    "#also create a column for the error (see above)\n",
    "data.loc[:,'count_weight']=occ_val[(data['ai_index']-1),(data['m_index']-1)]/hist_val[(data['ai_index']-1),(data['m_index']-1)] \n",
    "data.loc[:,'cw_error']=error_val[(data['ai_index']-1),(data['m_index']-1)]/hist_val[(data['ai_index']-1),(data['m_index']-1)]"
   ]
  },
  {
   "cell_type": "code",
   "execution_count": 18,
   "id": "1a02fcbb",
   "metadata": {},
   "outputs": [],
   "source": [
    "#create a new column for weighting which is the planet occurrence rate in that bin divided by number of planets in that bin\n",
    "#also create a column for the error (see above)\n",
    "data1p5.loc[:,'count_weight']=occ_val[(data1p5['ai_index']-1),(data1p5['m_index']-1)]/hist_val[(data1p5['ai_index']-1),(data1p5['m_index']-1)] \n",
    "data1p5.loc[:,'cw_error']=error_val[(data1p5['ai_index']-1),(data1p5['m_index']-1)]/hist_val[(data1p5['ai_index']-1),(data1p5['m_index']-1)]"
   ]
  },
  {
   "cell_type": "markdown",
   "id": "c35297df",
   "metadata": {},
   "source": [
    "**Step 2** Calculate $\\left(\\frac{d^2N_{WD}}{dloga\\,dlogM}\\right)_{jk}=\\Sigma_iR_{ijk}C_{ik}$ where $R_{ijk}$ is the number of planets from the $ik^{th}$ bin on the main sequence that end up in the $jk^{th}$ bin in the white dwarf phase."
   ]
  },
  {
   "cell_type": "markdown",
   "id": "e40f30c7",
   "metadata": {},
   "source": [
    "Remove engulfed planets"
   ]
  },
  {
   "cell_type": "code",
   "execution_count": 19,
   "id": "32128c22",
   "metadata": {},
   "outputs": [],
   "source": [
    "data_ne=data[data['status']==0] #remove engulfed planets\n",
    "data_ne1p5=data1p5[data1p5['status']==0] #remove engulfed planets"
   ]
  },
  {
   "cell_type": "markdown",
   "id": "3a686843",
   "metadata": {},
   "source": [
    "Calculate a histogram of final positions of simulated planets to get the value of $R_{ijk}$ and $\\sigma(R_{ijk})=\\sqrt{R_{ijk}}$ assuming Poissonian for the error analysis"
   ]
  },
  {
   "cell_type": "code",
   "execution_count": 20,
   "id": "2eb160a8",
   "metadata": {},
   "outputs": [],
   "source": [
    "Rijk_1p0, a_edges, m_edges=np.histogram2d(data_ne['a_f'],data_ne['logM'],bins=[a_edges,m_edges])"
   ]
  },
  {
   "cell_type": "code",
   "execution_count": 21,
   "id": "fdd24994",
   "metadata": {},
   "outputs": [],
   "source": [
    "Rijk_1p5, a_edges_1p5, m_edges=np.histogram2d(data_ne1p5['a_f'],data_ne1p5['logM'],bins=[a_edges,m_edges])"
   ]
  },
  {
   "cell_type": "code",
   "execution_count": 22,
   "id": "a6e07e0d",
   "metadata": {},
   "outputs": [
    {
     "name": "stderr",
     "output_type": "stream",
     "text": [
      "C:\\ProgramData\\Anaconda3\\lib\\site-packages\\pandas\\core\\indexing.py:1597: SettingWithCopyWarning: \n",
      "A value is trying to be set on a copy of a slice from a DataFrame.\n",
      "Try using .loc[row_indexer,col_indexer] = value instead\n",
      "\n",
      "See the caveats in the documentation: https://pandas.pydata.org/pandas-docs/stable/user_guide/indexing.html#returning-a-view-versus-a-copy\n",
      "  self.obj[key] = value\n",
      "C:\\ProgramData\\Anaconda3\\lib\\site-packages\\pandas\\core\\indexing.py:1676: SettingWithCopyWarning: \n",
      "A value is trying to be set on a copy of a slice from a DataFrame.\n",
      "Try using .loc[row_indexer,col_indexer] = value instead\n",
      "\n",
      "See the caveats in the documentation: https://pandas.pydata.org/pandas-docs/stable/user_guide/indexing.html#returning-a-view-versus-a-copy\n",
      "  self._setitem_single_column(ilocs[0], value, pi)\n"
     ]
    }
   ],
   "source": [
    "data_ne.loc[:,'af_index']=np.digitize(data_ne.loc[:,'a_f'],a_edges) #find index of bin it belongs to in final a space\n",
    "data_ne1p5.loc[:,'af_index']=np.digitize(data_ne1p5.loc[:,'a_f'],a_edges) #find index of bin it belongs to in final a space"
   ]
  },
  {
   "cell_type": "code",
   "execution_count": 23,
   "id": "3f903fcf",
   "metadata": {},
   "outputs": [
    {
     "name": "stderr",
     "output_type": "stream",
     "text": [
      "C:\\ProgramData\\Anaconda3\\lib\\site-packages\\pandas\\core\\indexing.py:1720: SettingWithCopyWarning: \n",
      "A value is trying to be set on a copy of a slice from a DataFrame.\n",
      "Try using .loc[row_indexer,col_indexer] = value instead\n",
      "\n",
      "See the caveats in the documentation: https://pandas.pydata.org/pandas-docs/stable/user_guide/indexing.html#returning-a-view-versus-a-copy\n",
      "  self._setitem_single_column(loc, value, pi)\n",
      "C:\\ProgramData\\Anaconda3\\lib\\site-packages\\pandas\\core\\indexing.py:1599: SettingWithCopyWarning: \n",
      "A value is trying to be set on a copy of a slice from a DataFrame.\n",
      "Try using .loc[row_indexer,col_indexer] = value instead\n",
      "\n",
      "See the caveats in the documentation: https://pandas.pydata.org/pandas-docs/stable/user_guide/indexing.html#returning-a-view-versus-a-copy\n",
      "  self.obj[key] = infer_fill_value(value)\n",
      "C:\\ProgramData\\Anaconda3\\lib\\site-packages\\pandas\\core\\indexing.py:1720: SettingWithCopyWarning: \n",
      "A value is trying to be set on a copy of a slice from a DataFrame.\n",
      "Try using .loc[row_indexer,col_indexer] = value instead\n",
      "\n",
      "See the caveats in the documentation: https://pandas.pydata.org/pandas-docs/stable/user_guide/indexing.html#returning-a-view-versus-a-copy\n",
      "  self._setitem_single_column(loc, value, pi)\n"
     ]
    }
   ],
   "source": [
    "#have to relabel as digitize does not include the largest bin edge it does [a amax) so need to down label\n",
    "# think the error comes as loc and conditional statements are not very happy\n",
    "data_ne1p5.loc[(data_ne1p5.af_index == (nbins_a+1)),'af_index']=nbins_a\n",
    "data_ne1p5.loc[(data_ne1p5.m_index == (nbins_m+1)),'mf_index']=nbins_m"
   ]
  },
  {
   "cell_type": "code",
   "execution_count": 24,
   "id": "0780d61f",
   "metadata": {},
   "outputs": [
    {
     "name": "stderr",
     "output_type": "stream",
     "text": [
      "C:\\ProgramData\\Anaconda3\\lib\\site-packages\\pandas\\core\\indexing.py:1597: SettingWithCopyWarning: \n",
      "A value is trying to be set on a copy of a slice from a DataFrame.\n",
      "Try using .loc[row_indexer,col_indexer] = value instead\n",
      "\n",
      "See the caveats in the documentation: https://pandas.pydata.org/pandas-docs/stable/user_guide/indexing.html#returning-a-view-versus-a-copy\n",
      "  self.obj[key] = value\n",
      "C:\\ProgramData\\Anaconda3\\lib\\site-packages\\pandas\\core\\indexing.py:1676: SettingWithCopyWarning: \n",
      "A value is trying to be set on a copy of a slice from a DataFrame.\n",
      "Try using .loc[row_indexer,col_indexer] = value instead\n",
      "\n",
      "See the caveats in the documentation: https://pandas.pydata.org/pandas-docs/stable/user_guide/indexing.html#returning-a-view-versus-a-copy\n",
      "  self._setitem_single_column(ilocs[0], value, pi)\n"
     ]
    }
   ],
   "source": [
    "data_ne.loc[:,'Rijk']=Rijk_1p0[(data_ne.loc[:,'ai_index']-1),(data_ne.loc[:,'m_index']-1)] \n",
    "data_ne1p5.loc[:,'Rijk']=Rijk_1p5[(data_ne1p5.loc[:,'ai_index']-1),(data_ne1p5.loc[:,'m_index']-1)]"
   ]
  },
  {
   "cell_type": "markdown",
   "id": "4c32c529",
   "metadata": {},
   "source": [
    "$\\sigma(R_{ijk}C_{ik})=R_{ijk}C_{ik}\\sqrt{\\left(\\frac{\\sigma R_{ijk}}{R_{ijk}}\\right)^2+\\left(\\frac{\\sigma C_{ik}}{C_{ik}}\\right)^2}$ fractional error in quadrature as there is multiplication.\n"
   ]
  },
  {
   "cell_type": "markdown",
   "id": "92aa6d79",
   "metadata": {},
   "source": [
    "$\\sigma R_{ijk}$ is Poissonian so $\\sqrt{R_{ijk}}$. However, if $R_{ijk}=0$ then the fractional error is infinite but this doesn't matter as doesn't contribute to the jth bin so will convert nan numbers to 0"
   ]
  },
  {
   "cell_type": "code",
   "execution_count": 25,
   "id": "cc44a466",
   "metadata": {},
   "outputs": [],
   "source": [
    "data_ne.loc[:,'RC_error']=data_ne['Rijk']*data_ne['count_weight']*np.sqrt(1/data_ne['Rijk']+(data_ne['cw_error']/data_ne['count_weight'])**2)\n",
    "data_ne.loc[:,'RC_error']=data_ne['RC_error'].fillna(0)\n",
    "data_ne1p5.loc[:,'RC_error']=data_ne1p5['Rijk']*data_ne1p5['count_weight']*np.sqrt(1/data_ne1p5['Rijk']+(data_ne1p5['cw_error']/data_ne1p5['count_weight'])**2)\n",
    "data_ne1p5.loc[:,'RC_error']=data_ne1p5['RC_error'].fillna(0)"
   ]
  },
  {
   "cell_type": "markdown",
   "id": "f9b6463e",
   "metadata": {},
   "source": [
    "Using np.histogram2d with count_weight is same as summing over $R_{ijk}C_{ik}$.\n",
    "\n",
    "$\\sigma(\\frac{d^2N_{WD}}{dloga\\,dlogM})_{jk}=\\sqrt{\\Sigma_i \\sigma(R_{ijk}C_{ik})^2}$ absolute error in quadrature as summation"
   ]
  },
  {
   "cell_type": "code",
   "execution_count": 26,
   "id": "fb04e0c4",
   "metadata": {},
   "outputs": [],
   "source": [
    "hist_val_wd, a_edges_1p0, m_edges=np.histogram2d(data_ne['a_f'],data_ne['logM'],weights=data_ne['count_weight'],bins=[a_edges,m_edges])\n",
    "error_val_wd_square, a_edges, m_edges=np.histogram2d(data_ne['a_f'],data_ne['logM'],weights=data_ne['RC_error']**2,bins=[a_edges,m_edges])\n",
    "error_val_wd=np.sqrt(error_val_wd_square)"
   ]
  },
  {
   "cell_type": "code",
   "execution_count": 27,
   "id": "8c9ea53a",
   "metadata": {},
   "outputs": [],
   "source": [
    "hist_val_wd_1p5, a_edges_1p5, m_edges=np.histogram2d(data_ne1p5['a_f'],data_ne1p5['logM'],weights=data_ne1p5['count_weight'],bins=[a_edges_1p5,m_edges])\n",
    "error_val_wd_1p5_square, a_edges, m_edges=np.histogram2d(data_ne1p5['a_f'],data_ne1p5['logM'],weights=data_ne1p5['RC_error']**2,bins=[a_edges_1p5,m_edges])\n",
    "error_val_wd_1p5=np.sqrt(error_val_wd_1p5_square)"
   ]
  },
  {
   "cell_type": "markdown",
   "id": "9b6c3edc",
   "metadata": {},
   "source": [
    "## Plots for paper <a class=\"anchor\" id=\"wd-plots\"></a> \n",
    "<p align=\"right\">(<a href=\"#top\">back to top</a>)</p>"
   ]
  },
  {
   "cell_type": "markdown",
   "id": "2681ec91",
   "metadata": {},
   "source": [
    "### Import Gaia detection limits <a class=\"anchor\" id=\"gaia-lim\"></a> "
   ]
  },
  {
   "cell_type": "code",
   "execution_count": 28,
   "id": "0d71f12b",
   "metadata": {},
   "outputs": [],
   "source": [
    "from Appendix.Gaia_detection_limits_app import mass_detect_fn"
   ]
  },
  {
   "cell_type": "raw",
   "id": "49944f3f",
   "metadata": {},
   "source": [
    "\"\"\"\n",
    "Function for Gaia detection limits\n",
    "\n",
    ":param a: float or array, semi-major axis in units of au\n",
    ":param sigma: float, chosen signal to noise ratio\n",
    ":param d: float, distance to the system in pc\n",
    ":param mag: int, magnitude of white dwarf in range 13-20\n",
    ":param path_nam: str, path from current directory to Gaia error in this case it is up one level\n",
    "\n",
    ":returns: mp, float or array, mass detectable planet at a given semi-major axis in units of Jupiter mass\n",
    "\n"
   ]
  },
  {
   "cell_type": "code",
   "execution_count": 29,
   "id": "c10c762b",
   "metadata": {},
   "outputs": [],
   "source": [
    "a_in=np.linspace(0,10,100) #create array for calculating detection limits\n",
    "d1=mass_detect_fn(a_in[1:],3,20,15,'../') #s/n=3, d=20pc, mag=15\n",
    "d2=mass_detect_fn(a_in[1:],3,40,15,'../') #s/n=3, d=40pc, mag=15"
   ]
  },
  {
   "cell_type": "markdown",
   "id": "5b637cb7",
   "metadata": {},
   "source": [
    "On the plot we want to show $\\frac{d^2N_{WD}}{da\\,dlogM}$ so need to multiply all the values by $\\frac{a}{log_{10}(e)}$"
   ]
  },
  {
   "cell_type": "code",
   "execution_count": 30,
   "id": "18a5b913",
   "metadata": {},
   "outputs": [],
   "source": [
    "#define M bins are equal in log space\n",
    "mbins_log=np.histogram_bin_edges(data_ne['logM'],nbins_m) #equal bins in log space\n",
    "mbins_unlog=10**mbins_log"
   ]
  },
  {
   "cell_type": "markdown",
   "id": "dc37cab7",
   "metadata": {},
   "source": [
    "### 1Msol distribution plot <a class=\"anchor\" id=\"1Msol-plot\"></a> \n",
    "<p align=\"right\">(<a href=\"#top\">back to top</a>)</p>\n",
    "This is figure 5a"
   ]
  },
  {
   "cell_type": "code",
   "execution_count": 31,
   "id": "ba24c7b4",
   "metadata": {
    "scrolled": false
   },
   "outputs": [
    {
     "data": {
      "image/png": "[encoded data removed]",
      "text/plain": [
       "<Figure size 1152x576 with 2 Axes>"
      ]
     },
     "metadata": {
      "needs_background": "light"
     },
     "output_type": "display_data"
    }
   ],
   "source": [
    "with sns.plotting_context('paper',font_scale=1.75):\n",
    "    plt.figure(figsize=[16,8])\n",
    "    plt.hist2d(data_ne['a_f'],data_ne['M'],weights=data_ne['count_weight']*data_ne['a_f']/np.log10(np.exp(1)),bins=[a_edges,mbins_unlog],norm=mcolors.LogNorm())\n",
    "    #plt.scatter(data_ne['a_f'],data_ne['M'],c='black',marker='x') #can add scatter of final positions if you want\n",
    "    plt.plot(a_in[1:],d1,color='black',linestyle='--',label='S/N=3, D=20pc, G$_{mag}$=15')\n",
    "    plt.plot(a_in[1:],d2,color='black',linestyle='-.',label='S/N=3, D=40pc, G$_{mag}$=15')\n",
    "    plt.yscale('log')\n",
    "    plt.vlines(3.91,min(data_ne['M']),max(data_ne['M']),color='black',linestyle='-',label='10 year length of $Gaia$ \\n extended mission')\n",
    "    plt.xlabel('a/au')\n",
    "    plt.ylabel('M/M$_J$')\n",
    "    plt.xlim([0,np.max(a_edges)])\n",
    "    plt.ylim([4e-3,13])\n",
    "    plt.legend(loc='lower right')\n",
    "    #plt.title('Number of planets around a white dwarf per log semi-major axis and log M for a 1M$_\\odot$ progenitor')\n",
    "    #plt.text(8.1,-1.5,'a bins={} \\nlog M bins={}'.format(nbins_a,nbins_m),color='black',bbox=dict(boxstyle='square', fc=\"w\", ec=\"w\",alpha=0.8))\n",
    "    plt.colorbar(label=r'$\\frac{d^2N}{da\\:dlogM}$')\n",
    "    #plt.savefig('../../Plots/final_planet_distribution1p0_final.pdf',bbox_inches='tight')\n",
    "    "
   ]
  },
  {
   "cell_type": "markdown",
   "id": "12184c76",
   "metadata": {},
   "source": [
    "# 1.5 Msol plot <a class=\"anchor\" id=\"1.5Msol-plot\"></a> \n",
    "<p align=\"right\">(<a href=\"#top\">back to top</a>)</p>"
   ]
  },
  {
   "cell_type": "code",
   "execution_count": 39,
   "id": "fb9a1b11",
   "metadata": {
    "scrolled": false
   },
   "outputs": [
    {
     "data": {
      "image/png": "[encoded data removed]",
      "text/plain": [
       "<Figure size 1152x576 with 2 Axes>"
      ]
     },
     "metadata": {
      "needs_background": "light"
     },
     "output_type": "display_data"
    }
   ],
   "source": [
    "with sns.plotting_context('paper',font_scale=1.75):\n",
    "    plt.figure(figsize=[16,8])\n",
    "    plt.hist2d(data_ne1p5['a_f'],data_ne1p5['M'],weights=data_ne1p5['count_weight']*data_ne1p5['a_f']/np.log10(np.exp(1)),bins=[a_edges,mbins_unlog],norm=mcolors.LogNorm())\n",
    "    plt.plot(a_in[1:],d1,color='black',linestyle='--',label='S/N=3, D=20pc, G$_{mag}$=15')\n",
    "    plt.plot(a_in[1:],d2,color='black',linestyle='-.',label='S/N=3, D=40pc, G$_{mag}$=15')\n",
    "    plt.yscale('log')\n",
    "    plt.vlines(3.91,min(data_ne1p5['M']),max(data_ne1p5['M']),color='black',linestyle='-',label='10 year length of $Gaia$ \\n extended mission')\n",
    "    plt.xlabel('a/au')\n",
    "    plt.ylabel('M/M$_J$')\n",
    "    plt.xlim([0,np.max(a_edges)])\n",
    "    plt.ylim([4e-3,13])\n",
    "    plt.legend(loc='lower left')\n",
    "    #plt.title('Number of planets around a white dwarf per log semi-major axis and log M for a 1.5M$_\\odot$ progenitor')\n",
    "    #plt.text(8.2,-1.5,'a bins={} \\nlogM bins={}'.format(nbins_a,nbins_m),color='black',bbox=dict(boxstyle='square', fc=\"w\", ec=\"w\",alpha=0.8))\n",
    "    plt.colorbar(label=r'$\\frac{d^2N}{da\\:dlogM}$')\n",
    "    #plt.savefig('../../Plots/final_planet_distribution1p5.pdf',bbox_inches='tight')"
   ]
  },
  {
   "cell_type": "markdown",
   "id": "cf59e5f5",
   "metadata": {},
   "source": [
    "## Comparison of main sequence and white dwarf planet occurrence rates <a class=\"anchor\" id=\"comparison\"></a> \n",
    "<p align=\"right\">(<a href=\"#top\">back to top</a>)</p>"
   ]
  },
  {
   "cell_type": "markdown",
   "id": "40d4b60b",
   "metadata": {},
   "source": [
    "We want to compare the number of planets inside 3.91 au on the main sequence and around white dwarfs with 1$M_\\odot$ and 1.5$M_\\odot$ progenitors."
   ]
  },
  {
   "cell_type": "markdown",
   "id": "51b07071",
   "metadata": {},
   "source": [
    "First create a function which will sum over the values in the histograms weighted by dloga dlogm where both logs are to base 10"
   ]
  },
  {
   "cell_type": "code",
   "execution_count": 33,
   "id": "b501c8b0",
   "metadata": {},
   "outputs": [],
   "source": [
    "def new_heatmap_sum(hist_val,error_val,edge1,edge2):\n",
    "    \"\"\"\n",
    "    Function  to compute sum of heatmap and error weighted by dloga and dlogm\n",
    "    :params hist_val: array, values from np.histogram\n",
    "    :params error_val: array, values of error from histogram\n",
    "    :params edge1: array, bin edges in 1st dimension, unevenly distributed in log space, unlogged values\n",
    "    :params edge2: array, bin edges in 2nd dimension, un/evenly distributed in log space, logged values\n",
    "    \n",
    "    :returns total: float, total sum of values in heatmap weighted by dloga and dlogm\n",
    "    :returns error: float, error on total\n",
    "    \"\"\"\n",
    "    dloga=np.log10(np.exp(1))*2*np.ediff1d(edge1)/(edge1[:-1]+edge1[1:]) #dloga=log10(e)da/a - find a from averaging sucessive values\n",
    "    dlogm=np.ediff1d(edge2) #dlogm need to account for non uniform spacing\n",
    "    hist_val_scaled=np.zeros([len(edge1)-1,len(edge2)-1])\n",
    "    error_val_scaled=np.zeros([len(edge1)-1,len(edge2)-1])\n",
    "    for i in range(len(edge2)-1):\n",
    "        hist_val_scaled[:,i]=hist_val[:,i]*dloga*abs(dlogm[i]) #have to multiply by bin width as doing a discrete integral, take absolute value as dlogm can be negative\n",
    "        error_val_scaled[:,i]=error_val[:,i]*dloga*abs(dlogm[i])\n",
    "    total=np.sum(hist_val_scaled)\n",
    "    error=np.sqrt(np.sum(error_val_scaled**2))\n",
    "    return total, error"
   ]
  },
  {
   "cell_type": "markdown",
   "id": "db2a33df",
   "metadata": {},
   "source": [
    "Second find the index of 3.91 au in the histogram edges."
   ]
  },
  {
   "cell_type": "code",
   "execution_count": 34,
   "id": "582a687e",
   "metadata": {},
   "outputs": [],
   "source": [
    "a_max=3.91 #[au]\n",
    "amax_ind=np.digitize(a_max,a_edges,right=True) #find index of bin it belongs to in a space\n",
    "amax_ind_1p0=np.digitize(a_max,a_edges_1p0,right=True) #find index of bin it belongs to in a space\n",
    "amax_ind_1p5=np.digitize(a_max,a_edges_1p5,right=True) #find index of bin it belongs to in a space"
   ]
  },
  {
   "cell_type": "markdown",
   "id": "261d6ad8",
   "metadata": {},
   "source": [
    "Third, sum over all masses and this small indices. "
   ]
  },
  {
   "cell_type": "code",
   "execution_count": 35,
   "id": "57c0c92c",
   "metadata": {},
   "outputs": [
    {
     "name": "stdout",
     "output_type": "stream",
     "text": [
      "There are 1.02 +\\- 0.02 planets per star on the main sequence in the plotted range\n"
     ]
    }
   ],
   "source": [
    "tot_ms2, e_ms2 = new_heatmap_sum(occ_val,error_val,a_edges,m_edges)\n",
    "print('There are {:.2f} +\\- {:.2f} planets per star on the main sequence in the plotted range'.format(tot_ms2,e_ms2))"
   ]
  },
  {
   "cell_type": "code",
   "execution_count": 36,
   "id": "7fded3d9",
   "metadata": {},
   "outputs": [
    {
     "name": "stdout",
     "output_type": "stream",
     "text": [
      "There are 0.78 +\\- 0.02 planets per star on the main sequence within 3.91 au\n",
      "There are 0.103 +\\- 0.004 planets per star around white dwarfs with a 1Msol progenitor within 3.91 au\n",
      "There are 8.33e-04 +\\- 0e+00 planets per star around white dwarfs with a 1.5Msol progenitor within 3.91 au\n"
     ]
    }
   ],
   "source": [
    "tot_ms, e_ms = new_heatmap_sum(occ_val[:amax_ind-1,:],error_val[:amax_ind-1,:],a_edges[:amax_ind],m_edges)\n",
    "tot_1p0, e_1p0 = new_heatmap_sum(hist_val_wd[:amax_ind_1p0-1,:],error_val_wd[:amax_ind_1p0-1,:],a_edges_1p0[:amax_ind_1p0],m_edges)\n",
    "tot_1p5, e_1p5 = new_heatmap_sum(hist_val_wd_1p5[:amax_ind_1p5-1,:],error_val_wd_1p5[:amax_ind_1p5-1,:],a_edges_1p5[:amax_ind_1p5],m_edges)\n",
    "print('There are {:.2f} +\\- {:.2f} planets per star on the main sequence within 3.91 au'.format(tot_ms,e_ms))\n",
    "print('There are {:.3f} +\\- {:.3f} planets per star around white dwarfs with a 1Msol progenitor within 3.91 au'.format(tot_1p0,e_1p0))\n",
    "print('There are {:.2e} +\\- {:.0e} planets per star around white dwarfs with a 1.5Msol progenitor within 3.91 au'.format(tot_1p5,e_1p5))"
   ]
  },
  {
   "cell_type": "markdown",
   "id": "28db9a86",
   "metadata": {},
   "source": [
    "## Save this data for number of detected planets <a class=\"anchor\" id=\"save\"></a>\n",
    "<p align=\"right\">(<a href=\"#top\">back to top</a>)</p>"
   ]
  },
  {
   "cell_type": "code",
   "execution_count": 37,
   "id": "b3bff87e",
   "metadata": {},
   "outputs": [],
   "source": [
    "label='final'\n",
    "#np.savetxt('wd_distribution_{}.csv'.format(label),hist_val_wd_ran,delimiter=',')\n",
    "#np.savetxt('error_distribution_{}.csv'.format(label),error_val_wd_ran,delimiter=',')\n",
    "#np.savetxt('wd_a_edges.csv',a_edges_ran,delimiter=',')\n",
    "#np.savetxt('wd_m_edges.csv',m_edges,delimiter=',')"
   ]
  }
 ],
 "metadata": {
  "kernelspec": {
   "display_name": "Python 3",
   "language": "python",
   "name": "python3"
  },
  "language_info": {
   "codemirror_mode": {
    "name": "ipython",
    "version": 3
   },
   "file_extension": ".py",
   "mimetype": "text/x-python",
   "name": "python",
   "nbconvert_exporter": "python",
   "pygments_lexer": "ipython3",
   "version": "3.8.8"
  }
 },
 "nbformat": 4,
 "nbformat_minor": 5
}
