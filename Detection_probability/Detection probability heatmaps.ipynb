{
 "cells": [
  {
   "cell_type": "markdown",
   "id": "9864017a",
   "metadata": {},
   "source": [
    "## Notebook for testing a detection probability heatmap for a single white dwarf\n",
    "This is a test notebook which explains all the steps in total_detection_probability.py which is for execution with the whole catalogue. It can also be used to create a map of detection probability for a particular white dwarf.\n",
    "\n",
    "**Ongoing issues**\n",
    "+ Extra bin in SN values of Ranalli data - for now I have just removed the smallest bin\n",
    "\n",
    "## Table of Contents <a class=\"anchor\" id=\"top\"></a>\n",
    "\n",
    "* [Setup](#setup)\n",
    "    + [Create a model white dwarf or choose one from the catalogue](#create)\n",
    "* [Import Ranalli 2018 data](#data)\n",
    "* [Create a map of signal](#step-1)\n",
    "* [Detection probability](#step-2)\n",
    "    + [Plot of detection probability](#detect-plot)\n",
    "    + [Comments](#comments)\n",
    "* [Optimisation](#optimisation)\n",
    "* [Combine detection probability and planet occurrence rate](#step-3)\n",
    "    + [Import planet occurrence rate](#import-data)\n",
    "    + [Plot of number of detectable planets](#detectable-planets)\n",
    "    + [Plot error](#error-analysis)"
   ]
  },
  {
   "cell_type": "markdown",
   "id": "58260d9c",
   "metadata": {},
   "source": [
    "### Setup <a class=\"anchor\" id=\"setup\"></a>\n",
    "<p align=\"right\">(<a href=\"#top\">back to top</a>)</p>"
   ]
  },
  {
   "cell_type": "code",
   "execution_count": 1,
   "id": "4597de79",
   "metadata": {},
   "outputs": [],
   "source": [
    "import pandas as pd\n",
    "import numpy as np\n",
    "import matplotlib.pyplot as plt\n",
    "import matplotlib.colors as mcolors"
   ]
  },
  {
   "cell_type": "code",
   "execution_count": 2,
   "id": "c45b915a",
   "metadata": {},
   "outputs": [],
   "source": [
    "mwd=0.6 #average mass of white dwarf [Msol]\n",
    "msol=1.989e30 #mass of Sun [kg]\n",
    "mj=1.898e27 #mass of Jupiter [kg"
   ]
  },
  {
   "cell_type": "markdown",
   "id": "b2087a31",
   "metadata": {},
   "source": [
    "### Create a model WD or choose one from the catalogue <a class=\"anchor\" id=\"create\"></a>\n",
    "<p align=\"right\">(<a href=\"#top\">back to top</a>)</p>\n"
   ]
  },
  {
   "cell_type": "code",
   "execution_count": 23,
   "id": "c27c24c3",
   "metadata": {},
   "outputs": [],
   "source": [
    "# these parameters are for G29-38\n",
    "candidate = 'G29_38' #name of candidate, will be used in the filename so don't include illegal characters\n",
    "d=17.5 #distance to WD [pc]\n",
    "gmag =13.1 # Gaia broadband magnitude"
   ]
  },
  {
   "cell_type": "code",
   "execution_count": 5,
   "id": "1ad11adc",
   "metadata": {},
   "outputs": [],
   "source": [
    "# Calculate noise using equation 3, 4, 5\n",
    "# same code as in Catalogue/noise_calculator.py\n",
    "T_factor = 0.527\n",
    "\n",
    "if 10**(0.4*(13-15))>10**(0.4*(gmag-15)):#replace values for which the second thing is bigger\n",
    "    z=10**(0.4*(13-15)) \n",
    "else:\n",
    "    z = 10**(0.4*(gmag-15))\n",
    "    \n",
    "\n",
    "sigma_pi = T_factor*(40+800*z+30*z**2)**(0.5)\n",
    "\n",
    "noise = np.sqrt(150)*sigma_pi/(2.15*1.1)*1e-6  #sigma fov in as"
   ]
  },
  {
   "cell_type": "markdown",
   "id": "5dab5468",
   "metadata": {},
   "source": [
    "## Import Ranalli 2018 data <a class=\"anchor\" id=\"data\"></a>\n",
    "<p align=\"right\">(<a href=\"#top\">back to top</a>)</p>\n",
    "The cell below comes from Ranalli, Piero, David Hobbs, and Lennart Lindegren. 2018. ‘Astrometry and Exoplanets in the Gaia Era: A Bayesian Approach to Detection and Parameter Recovery’. Astronomy & Astrophysics 614 (June): A30. https://doi.org/10.1051/0004-6361/201730921.\n",
    "\n",
    "The data from Fig.5 in Ranalli et al. (2018) have been rebinned using rectangular bins, of size 0.059 in log(SN) and 0.75 in log(P). P is in units of years.\n",
    "\n",
    "x contain log(SN), y contain log(P)"
   ]
  },
  {
   "cell_type": "code",
   "execution_count": 6,
   "id": "a9a3eaa8",
   "metadata": {},
   "outputs": [],
   "source": [
    "# read matrix and convert to numpy array\n",
    "detfract10yr = pd.read_csv('detfract10yr.txt', sep=' ', header=14)\n",
    "detfract10yr = detfract10yr.values\n",
    "xedges10yr = np.array([-0.3  , -0.241, -0.182, -0.123, -0.064, -0.005,  0.054,  0.113, \\\n",
    "        0.172,  0.231,  0.29 ,  0.349,  0.408,  0.467,  0.526,  0.585, \\\n",
    "        0.644,  0.703,  0.762,  0.821,  0.88 ,  0.939,  0.998,  1.057])\n",
    "yedges10yr = np.array([-1.1  , -1.025, -0.95 , -0.875, -0.8  , -0.725, -0.65 , -0.575, \\\n",
    "       -0.5  , -0.425, -0.35 , -0.275, -0.2  , -0.125, -0.05 ,  0.025, \\\n",
    "        0.1  ,  0.175,  0.25 ,  0.325,  0.4  ,  0.475,  0.55 ,  0.625, \\\n",
    "        0.7  ,  0.775,  0.85 ,  0.925,  1.   ,  1.075,  1.15 ,  1.225, \\\n",
    "        1.3  ,  1.375])"
   ]
  },
  {
   "cell_type": "markdown",
   "id": "935ec032",
   "metadata": {},
   "source": [
    "Examine the data (Ranalli wrote this bit)"
   ]
  },
  {
   "cell_type": "code",
   "execution_count": 7,
   "id": "afab0367",
   "metadata": {},
   "outputs": [
    {
     "data": {
      "image/png": "[encoded data removed]",
      "text/plain": [
       "<Figure size 432x288 with 1 Axes>"
      ]
     },
     "metadata": {
      "needs_background": "light"
     },
     "output_type": "display_data"
    }
   ],
   "source": [
    "plt.imshow(detfract10yr.T, origin='lower', extent=[xedges10yr[0], xedges10yr[-1], yedges10yr[0], yedges10yr[-1]])\n",
    "plt.xlabel('log SN')\n",
    "plt.ylabel('log P')\n",
    "plt.show()"
   ]
  },
  {
   "cell_type": "markdown",
   "id": "670762df",
   "metadata": {},
   "source": [
    "Can see for S/N less than 1 the detection probability basically goes to 0."
   ]
  },
  {
   "cell_type": "markdown",
   "id": "c552d070",
   "metadata": {},
   "source": [
    "Examine shape of data.\n",
    "Xedges is too large and not sure which one is missing?"
   ]
  },
  {
   "cell_type": "code",
   "execution_count": 8,
   "id": "842cf379",
   "metadata": {},
   "outputs": [
    {
     "name": "stdout",
     "output_type": "stream",
     "text": [
      "(33, 22)\n",
      "34\n",
      "24\n"
     ]
    }
   ],
   "source": [
    "print(np.shape(detfract10yr.T))\n",
    "print(len(yedges10yr))\n",
    "print(len(xedges10yr))"
   ]
  },
  {
   "cell_type": "markdown",
   "id": "0493f6a3",
   "metadata": {},
   "source": [
    "Convert P/yr edges to a/au edges\n",
    "\n",
    "$\\frac{a}{au}=\\left(\\frac{M_*}{M_\\odot}\\left(\\frac{P}{year}\\right)^2\\right)^{\\frac{1}{3}}$"
   ]
  },
  {
   "cell_type": "code",
   "execution_count": 9,
   "id": "46415215",
   "metadata": {},
   "outputs": [
    {
     "name": "stdout",
     "output_type": "stream",
     "text": [
      "[0.15585369 0.17487071 0.19620817 0.22014919 0.24701145 0.2771514\n",
      " 0.31096899 0.34891295 0.39148676 0.43925537 0.49285264 0.55298975\n",
      " 0.62046471 0.69617285 0.78111879 0.87642969 0.98337029 1.10335961\n",
      " 1.23798985 1.38904746 1.55853688 1.74870714 1.96208168 2.20149186\n",
      " 2.47011449 2.77151404 3.1096899  3.48912946 3.91486764 4.39255374\n",
      " 4.92852636 5.52989753 6.20464707 6.96172852]\n",
      "[ 0.07943282  0.09440609  0.11220185  0.13335214  0.15848932  0.18836491\n",
      "  0.22387211  0.26607251  0.31622777  0.3758374   0.44668359  0.53088444\n",
      "  0.63095734  0.74989421  0.89125094  1.05925373  1.25892541  1.49623566\n",
      "  1.77827941  2.11348904  2.51188643  2.98538262  3.54813389  4.21696503\n",
      "  5.01187234  5.95662144  7.07945784  8.41395142 10.         11.88502227\n",
      " 14.12537545 16.78804018 19.95262315 23.71373706]\n"
     ]
    }
   ],
   "source": [
    "#convert P edges to au\n",
    "unlogP=10**yedges10yr\n",
    "aedges10yr=(mwd*(unlogP)**2)**(1/3)\n",
    "print(aedges10yr)\n",
    "print(unlogP)"
   ]
  },
  {
   "cell_type": "markdown",
   "id": "d34ed5f1",
   "metadata": {},
   "source": [
    "Can see here the maximum period is much much longer than 10 years. In figure 5 of Ranalli et al. he doesn't even show the final few period points.\n",
    "Make SN edges one shorter to match length of data - \n",
    "have removed the bottom edge as all the values at the bottom are zero anyway."
   ]
  },
  {
   "cell_type": "code",
   "execution_count": 10,
   "id": "f0578670",
   "metadata": {},
   "outputs": [
    {
     "name": "stdout",
     "output_type": "stream",
     "text": [
      "23\n"
     ]
    }
   ],
   "source": [
    "snedges10yr=xedges10yr[1:]\n",
    "print(len(snedges10yr))"
   ]
  },
  {
   "cell_type": "markdown",
   "id": "24441858",
   "metadata": {},
   "source": [
    "## Step 1: Create a map of $\\alpha$ as a function of M and a <a class=\"anchor\" id=\"step-1\"></a>\n",
    "<p align=\"right\">(<a href=\"#top\">back to top</a>)</p>\n",
    "\n",
    "$\\alpha = \\frac{\\frac{a}{au}\\frac{M_{pl}}{M_*}}{\\frac{d}{pc}}$"
   ]
  },
  {
   "cell_type": "code",
   "execution_count": 11,
   "id": "6d8805bc",
   "metadata": {},
   "outputs": [],
   "source": [
    "# choose a number of bins\n",
    "#for now match with other heatmaps notebook\n",
    "nbins_a=100\n",
    "nbins_m=31"
   ]
  },
  {
   "cell_type": "code",
   "execution_count": 12,
   "id": "3c187c6d",
   "metadata": {},
   "outputs": [],
   "source": [
    "# create arrays for a and M\n",
    "#for a use maximum in Ranalli period - [au]\n",
    "a_min=min(aedges10yr)\n",
    "a_max=max(aedges10yr)\n",
    "#for M use maximum and minimum in simulation data [msol]\n",
    "m_min=3.00348934885079e-06\n",
    "m_max=0.0124097250416012 \n",
    "\n",
    "a_in=np.linspace(a_min,a_max,nbins_a)\n",
    "m_in=np.logspace(np.log10(m_min),np.log10(m_max),nbins_m) #returns planet masses evenly distributed in logspace in units of msol"
   ]
  },
  {
   "cell_type": "code",
   "execution_count": 13,
   "id": "61a44ea4",
   "metadata": {},
   "outputs": [],
   "source": [
    "#calculate alpha for d=1pc\n",
    "noise_info=pd.DataFrame()\n",
    "for i in range(len(m_in)):\n",
    "    alpha_out=a_in*m_in[i]\n",
    "    data_dict=pd.DataFrame({'logM':np.log10(m_in[i]*msol/mj),'a':a_in,'alpha':alpha_out})\n",
    "    noise_info=noise_info.append(data_dict,ignore_index=True) #a in au, logM in Mj"
   ]
  },
  {
   "cell_type": "markdown",
   "id": "e758651a",
   "metadata": {},
   "source": [
    "Save as a csv so this map can be reused"
   ]
  },
  {
   "cell_type": "code",
   "execution_count": 14,
   "id": "3c1d2cf2",
   "metadata": {},
   "outputs": [],
   "source": [
    "#noise_info.to_csv('alpha_map.csv')"
   ]
  },
  {
   "cell_type": "code",
   "execution_count": 15,
   "id": "9e9bddf1",
   "metadata": {},
   "outputs": [],
   "source": [
    "#scale for given WD\n",
    "noise_info.loc[:,'SN']=noise_info['alpha'].copy()/(d*noise)"
   ]
  },
  {
   "cell_type": "markdown",
   "id": "70fca293",
   "metadata": {},
   "source": [
    "Create heatmap"
   ]
  },
  {
   "cell_type": "code",
   "execution_count": 17,
   "id": "a0c1663b",
   "metadata": {
    "scrolled": true
   },
   "outputs": [
    {
     "data": {
      "text/plain": [
       "<matplotlib.colorbar.Colorbar at 0x18bca4b3970>"
      ]
     },
     "execution_count": 17,
     "metadata": {},
     "output_type": "execute_result"
    },
    {
     "data": {
      "image/png": "[encoded data removed]",
      "text/plain": [
       "<Figure size 432x288 with 2 Axes>"
      ]
     },
     "metadata": {
      "needs_background": "light"
     },
     "output_type": "display_data"
    }
   ],
   "source": [
    "plt.figure()\n",
    "plt.hist2d(noise_info['a'],noise_info['logM'],bins=[nbins_a,nbins_m],weights=noise_info['SN'],norm=mcolors.LogNorm())\n",
    "plt.xlabel('a/au')\n",
    "plt.ylabel('log(M/M$_J$)')\n",
    "plt.title('Signal to noise for a Gmag={} white dwarf \\n at {}pc'.format(gmag,d))\n",
    "plt.text(5,-2,'xbin={} \\n ybin={}'.format(nbins_a,nbins_m),color='white')\n",
    "plt.colorbar(label='S/N')"
   ]
  },
  {
   "cell_type": "markdown",
   "id": "7f4d4271",
   "metadata": {},
   "source": [
    "## Step 2 - Create a map of detection probability <a class=\"anchor\" id=\"step-2\"></a>\n",
    "<p align=\"right\">(<a href=\"#top\">back to top</a>)</p>"
   ]
  },
  {
   "cell_type": "markdown",
   "id": "ce8ae3a7",
   "metadata": {},
   "source": [
    "For each point in the map find the index for Ranalli's bins of corrresponding a and S/N"
   ]
  },
  {
   "cell_type": "code",
   "execution_count": 18,
   "id": "66e81680",
   "metadata": {},
   "outputs": [],
   "source": [
    "noise_info.loc[:,'a_index']=np.digitize(noise_info['a'],aedges10yr) #find index of bin it belongs to in a space\n",
    "noise_info.loc[:,'sn_index']=np.digitize(np.log10(noise_info['SN']),snedges10yr) #find index of bin it belongs to in m space"
   ]
  },
  {
   "cell_type": "code",
   "execution_count": 19,
   "id": "e50de127",
   "metadata": {},
   "outputs": [],
   "source": [
    "#Things with S/N greater than max value will be given an index of 23\n",
    "#These strong objects are still detectable so just relabel with second lowest index\n",
    "\n",
    "noise_info.loc[(noise_info.a_index == (len(aedges10yr))),'a_index']=len(aedges10yr)-1\n",
    "noise_info.loc[(noise_info.sn_index == (len(snedges10yr))),'sn_index']=len(snedges10yr)-1\n",
    "\n",
    "#things outside of range will move into smallest bin as value in this bin is 0 anyway\n",
    "noise_info.loc[(noise_info.a_index == 0),'a_index']=1\n",
    "noise_info.loc[(noise_info.sn_index == 0),'sn_index']=1"
   ]
  },
  {
   "cell_type": "markdown",
   "id": "d35fda33",
   "metadata": {},
   "source": [
    "Use these indices to create a new column for detection probability at each point\n",
    "\n",
    "Have to minus 1 as bin count starts from 1 for data in range\n",
    "\n"
   ]
  },
  {
   "cell_type": "code",
   "execution_count": 20,
   "id": "4aafafcc",
   "metadata": {},
   "outputs": [],
   "source": [
    "noise_info.loc[:,'prob_detect']=detfract10yr[noise_info['sn_index']-1,noise_info['a_index']-1] "
   ]
  },
  {
   "cell_type": "markdown",
   "id": "74401aee",
   "metadata": {},
   "source": [
    "### Plot of detection probability <a class=\"anchor\" id=\"detect-plot\"></a>\n",
    "<p align=\"right\">(<a href=\"#top\">back to top</a>)</p>\n",
    "This is Figure 3 in the paper and can also make a plot of detection probability for your given candidate."
   ]
  },
  {
   "cell_type": "code",
   "execution_count": 22,
   "id": "b1b00928",
   "metadata": {},
   "outputs": [],
   "source": [
    "import seaborn as sns"
   ]
  },
  {
   "cell_type": "code",
   "execution_count": 24,
   "id": "5833d0ea",
   "metadata": {},
   "outputs": [
    {
     "data": {
      "image/png": "[encoded data removed]",
      "text/plain": [
       "<Figure size 432x288 with 2 Axes>"
      ]
     },
     "metadata": {
      "needs_background": "light"
     },
     "output_type": "display_data"
    }
   ],
   "source": [
    "#define M bins are equal in log space\n",
    "mbins_log=np.histogram_bin_edges(noise_info['logM'],nbins_m) #equal bins in log space\n",
    "mbins_unlog=10**mbins_log\n",
    "noise_info.loc[:,'M']=10**noise_info['logM'].copy()\n",
    "\n",
    "with sns.plotting_context('paper'):\n",
    "    plt.figure()\n",
    "    plt.hist2d(noise_info['a'],noise_info['M'],bins=[nbins_a,mbins_unlog],weights=noise_info['prob_detect'],)\n",
    "    plt.fill_between([3.91,max(a_in)],min(noise_info['M']),max(noise_info['M']),hatch='xx',color=\"none\",edgecolor='white')\n",
    "    plt.xlabel('a/au')\n",
    "    plt.ylabel('M/M$_J$')\n",
    "    plt.yscale('log')\n",
    "    plt.text(4,1e-2,'Period longer than \\n$\\it{Gaia}$ mission length',color='black',bbox=dict(boxstyle='square', fc=\"w\", ec=\"w\",alpha=1))\n",
    "    plt.colorbar(label='Detection Probability')\n",
    "    plt.savefig('detection_probability_{}.pdf'.format(candidate),bbox_inches='tight')"
   ]
  },
  {
   "cell_type": "markdown",
   "id": "a85ed2dc",
   "metadata": {},
   "source": [
    "## Step 3 - Combine detection probability with planet occurrence <a class=\"anchor\" id=\"step-3\"></a>\n",
    "<p align=\"right\">(<a href=\"#top\">back to top</a>)</p>"
   ]
  },
  {
   "cell_type": "markdown",
   "id": "060af0fc",
   "metadata": {},
   "source": [
    "If you are looking at a specific candidate do not go through this step. This just tests the code that is applied to the whole catalogue.\n",
    "The planet occurrence map is the same for all white dwarfs so can multiply this to the sum of all the maps at the end. Need to rebin the data so the edges match that of the distribution, which has been binned to match the detection probabilities in Ranalli et al. (2018)."
   ]
  },
  {
   "cell_type": "markdown",
   "id": "7323635f",
   "metadata": {},
   "source": [
    "### Import the data <a class=\"anchor\" id=\"import-data\"></a>\n",
    "<p align=\"right\">(<a href=\"#top\">back to top</a>)</p>\n"
   ]
  },
  {
   "cell_type": "code",
   "execution_count": null,
   "id": "cb5076fa",
   "metadata": {},
   "outputs": [],
   "source": [
    "hist_val_wd=np.loadtxt('../Distribution/wd_distribution.csv',delimiter=',')\n",
    "error_val_wd=np.loadtxt('../Distribution/error_distribution.csv',delimiter=',')\n",
    "a_edges_wd=np.loadtxt('../Distribution/wd_a_edges.csv',delimiter=',')\n",
    "m_edges_wd=np.loadtxt('../Distribution/wd_m_edges.csv',delimiter=',')"
   ]
  },
  {
   "cell_type": "markdown",
   "id": "2306c75f",
   "metadata": {},
   "source": [
    "Rebin noise info with matching edges"
   ]
  },
  {
   "cell_type": "code",
   "execution_count": null,
   "id": "ee5f4359",
   "metadata": {},
   "outputs": [],
   "source": [
    "prob_hist, a_edges, m_edges=np.histogram2d(noise_info['a'],noise_info['logM'],weights=noise_info['prob_detect'],bins=[a_edges_wd,m_edges_wd])"
   ]
  },
  {
   "cell_type": "code",
   "execution_count": null,
   "id": "2ebd7b96",
   "metadata": {},
   "outputs": [],
   "source": [
    "num_planets=np.multiply(prob_hist,hist_val_wd)"
   ]
  },
  {
   "cell_type": "markdown",
   "id": "88a88e47",
   "metadata": {},
   "source": [
    "### Plot of number of detectable planets <a class=\"anchor\" id=\"detectable-planets\"></a>\n",
    "<p align=\"right\">(<a href=\"#top\">back to top</a>)</p>"
   ]
  },
  {
   "cell_type": "code",
   "execution_count": null,
   "id": "7f212913",
   "metadata": {},
   "outputs": [],
   "source": [
    "plt.figure()\n",
    "plt.pcolormesh(a_edges,m_edges,np.transpose(num_planets),norm=mcolors.LogNorm(),shading='flat')\n",
    "plt.xlabel('a/au')\n",
    "plt.ylabel('log(M/M$_J$)')\n",
    "plt.title('Number of detected planets for a Gmag=15 white dwarf \\n at {}pc'.format(d))\n",
    "plt.colorbar(label='Number of detected planets')"
   ]
  },
  {
   "cell_type": "markdown",
   "id": "7c7e1d7e",
   "metadata": {},
   "source": [
    "Do same for the error"
   ]
  },
  {
   "cell_type": "code",
   "execution_count": null,
   "id": "c5502344",
   "metadata": {},
   "outputs": [],
   "source": [
    "error_planets=np.multiply(prob_hist,error_val_wd)"
   ]
  },
  {
   "cell_type": "markdown",
   "id": "91bb1e94",
   "metadata": {},
   "source": [
    "Find the proportional uncertainty"
   ]
  },
  {
   "cell_type": "code",
   "execution_count": null,
   "id": "ea706915",
   "metadata": {},
   "outputs": [],
   "source": [
    "mask=num_planets!=0\n",
    "prop_error=np.zeros(np.shape(num_planets))\n",
    "np.divide(error_planets,num_planets,out=prop_error,where=mask)"
   ]
  },
  {
   "cell_type": "markdown",
   "id": "154ad419",
   "metadata": {},
   "source": [
    "### Error Analysis\n",
    "<a class=\"anchor\" id=\"error-analysis\"></a>\n",
    "<p align=\"right\">(<a href=\"#top\">back to top</a>)</p>"
   ]
  },
  {
   "cell_type": "code",
   "execution_count": null,
   "id": "4ccbdeb8",
   "metadata": {},
   "outputs": [],
   "source": [
    "plt.figure(figsize=[10,5],tight_layout=True)\n",
    "plt.subplot(1,2,1)\n",
    "plt.pcolormesh(a_edges,m_edges,np.transpose(num_planets),norm=mcolors.LogNorm(),shading='flat')\n",
    "plt.xlabel('a/au')\n",
    "plt.ylabel('log(M/M$_J$)')\n",
    "plt.title('Number of detected planets')\n",
    "plt.colorbar(label='Number of detected planets')\n",
    "\n",
    "plt.subplot(1,2,2)\n",
    "plt.pcolormesh(a_edges,m_edges,np.transpose(prop_error),shading='flat',norm=mcolors.LogNorm())\n",
    "plt.xlabel('a/au')\n",
    "plt.ylabel('log(M/M$_J$)')\n",
    "#plt.xlim([0,4])\n",
    "plt.title('Propotional error in number of detected planets')\n",
    "plt.colorbar(label='Proportional error')\n",
    "plt.suptitle('Number of detected planets and error for a G$_{mag}$=15 white dwarf at 30 pc')\n",
    "#plt.savefig('Initial_error_graph.png')"
   ]
  },
  {
   "cell_type": "code",
   "execution_count": null,
   "id": "46142eb5",
   "metadata": {},
   "outputs": [],
   "source": []
  }
 ],
 "metadata": {
  "kernelspec": {
   "display_name": "Python 3",
   "language": "python",
   "name": "python3"
  },
  "language_info": {
   "codemirror_mode": {
    "name": "ipython",
    "version": 3
   },
   "file_extension": ".py",
   "mimetype": "text/x-python",
   "name": "python",
   "nbconvert_exporter": "python",
   "pygments_lexer": "ipython3",
   "version": "3.8.8"
  }
 },
 "nbformat": 4,
 "nbformat_minor": 5
}
